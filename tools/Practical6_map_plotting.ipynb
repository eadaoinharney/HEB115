{
 "cells": [
  {
   "cell_type": "markdown",
   "id": "4ab35a12-1f52-42be-af37-3f9aceaa2d05",
   "metadata": {},
   "source": [
    "# Plotting outgroup f3-statistics on a map\n",
    "\n",
    "You can use the python code in this jupyter notebook to plot the f3-statistics you generated onto a world map. To execute the contents of each cell, just press Shift+Enter. Follow along with the instructions to create your map \n",
    "\n",
    "Make sure that you have saved this jupyter notebook in the same directory where the `outgroup_f3.out` file is saved, otherwise your code won't run correctly"
   ]
  },
  {
   "cell_type": "markdown",
   "id": "e8296785-d6c1-4158-a1dc-789a22e43513",
   "metadata": {
    "tags": []
   },
   "source": [
    "### Start by loading all of the necessary python libraries that you'll need to make your plot"
   ]
  },
  {
   "cell_type": "code",
   "execution_count": null,
   "id": "b7467f61-2991-43fe-9e89-82bd4d79526f",
   "metadata": {},
   "outputs": [],
   "source": [
    "import warnings\n",
    "\t\n",
    "import pandas as pd\n",
    "import geopandas as gpd\n",
    "\n",
    "import matplotlib.pyplot as plt\n",
    "\n",
    "#The following code will turn off unnecessary warning messages\n",
    "warnings.simplefilter(action='ignore', category=FutureWarning)"
   ]
  },
  {
   "cell_type": "markdown",
   "id": "a8a739dd-6e83-41bb-b665-577f4242d721",
   "metadata": {
    "tags": []
   },
   "source": [
    "### Next, extract your results from your outgroup_f3.out results file\n",
    "\n",
    "These are actually bash scripts, but you can execute bash commands from within a Jupyter Notebook if you start the line with an exclamation point (!)\n",
    "\n",
    "The first line creates the header file for the new file you'll be creating and the second file extracts the relevant information from your `outgroup_f3.out` file"
   ]
  },
  {
   "cell_type": "code",
   "execution_count": null,
   "id": "440eb842-e3e6-4d1d-a081-e09efb7f3209",
   "metadata": {
    "tags": []
   },
   "outputs": [],
   "source": [
    "! echo \"Source1,Source2,Target,f3-statistic,std-err,z-score,num-snps\" > results_outgroup_f3.csv\n",
    "! grep \"result:\" outgroup_f3.out | awk '{print $2 \",\" $3 \",\" $4 \",\" $5 \",\" $6 \",\" $7 \",\" $8}' >> results_outgroup_f3.csv"
   ]
  },
  {
   "cell_type": "markdown",
   "id": "b510fbbe-770b-4b8c-bbc7-f14bddf2f9ba",
   "metadata": {},
   "source": [
    "### Next, you'll save your results into a pandas dataframe - a special kind of table used in python"
   ]
  },
  {
   "cell_type": "code",
   "execution_count": null,
   "id": "3abf4031-e6c8-4683-b2d0-313f064e34b4",
   "metadata": {},
   "outputs": [],
   "source": [
    "results = pd.read_csv(\"results_outgroup_f3.csv\")"
   ]
  },
  {
   "cell_type": "markdown",
   "id": "7f930f73-8217-4045-9ebf-a59f09163e6b",
   "metadata": {
    "tags": []
   },
   "source": [
    "### Take a look at your pandas dataframe"
   ]
  },
  {
   "cell_type": "code",
   "execution_count": null,
   "id": "81e0b5b7-0365-41da-ba98-ff3bb7dae297",
   "metadata": {
    "tags": []
   },
   "outputs": [],
   "source": [
    "results"
   ]
  },
  {
   "cell_type": "markdown",
   "id": "10e98194-eb27-4f0a-91e1-b5989e8e40cf",
   "metadata": {},
   "source": [
    "### Add latitude and longtidue information to your dataframe"
   ]
  },
  {
   "cell_type": "markdown",
   "id": "c791e82a-4694-4cf8-b7a8-82c22e2347d5",
   "metadata": {},
   "source": [
    "You'll need to provide your own table with coordinate information for each population you included in your analysis. The following is an example file that you can use to get started. Once you've created your own file, replace the example. "
   ]
  },
  {
   "cell_type": "code",
   "execution_count": null,
   "id": "75cb2613-ae60-49ba-8468-64a2558234bd",
   "metadata": {
    "tags": []
   },
   "outputs": [],
   "source": [
    "coordinates = pd.read_csv(\"~/153784/data/reference_data/Practical6_example_lat_lon.csv\") "
   ]
  },
  {
   "cell_type": "markdown",
   "id": "0ce17e91-94ba-4e1a-87bd-2e3714778c30",
   "metadata": {},
   "source": [
    "As you can see below, your coordinates file should have three columns, with the headers \"pop\", \"lat\" and \"long\". Be sure to save your file as a comma separated list (i.e. a csv), since that is what this script is expecting. \n",
    "\n",
    "To make this file, you’ll need to look up the geographic coordinates associated with each population included in your analysis. They can be found in the AADR “anno” file (https://docs.google.com/spreadsheets/d/1NJEPY-JPSjj3ERmM1SXkz7vYVafIaJ0gjpRQ-XLxAmk/edit?usp=sharing). \n",
    "\n",
    "*Note 1- Sometimes different individuals from the same population have different coordinates listed in the AADR anno file. If that’s the case, don’t worry, for the purpose of this assignment, you can just pick one set of coordinates to represent each population's location.*\n",
    "\n",
    "*Note 2 - Some populations don't have any coordinates associated with them. Based on the available location information, you are encouraged to choose an approximate location for them so that they can be included in your map. But it is also okay to exclude these populations from your plot.*"
   ]
  },
  {
   "cell_type": "code",
   "execution_count": null,
   "id": "f2cf0228-b023-44f9-9705-b74736cf0d6e",
   "metadata": {
    "tags": []
   },
   "outputs": [],
   "source": [
    "coordinates"
   ]
  },
  {
   "cell_type": "markdown",
   "id": "24595c69-3832-4d3f-bca0-4c164c197430",
   "metadata": {},
   "source": [
    "### Merge in the coordinate information to your results file"
   ]
  },
  {
   "cell_type": "code",
   "execution_count": null,
   "id": "bd3e1d39-deff-4d98-b3be-f2614b589ac6",
   "metadata": {
    "tags": []
   },
   "outputs": [],
   "source": [
    "results_coords = results.merge(coordinates, left_on=\"Source2\", right_on=\"pop\", how=\"left\")"
   ]
  },
  {
   "cell_type": "markdown",
   "id": "a47dc728-86aa-426a-a8cf-bd202cffa38a",
   "metadata": {
    "tags": []
   },
   "source": [
    "Take a moment to visually check that your results file is still formatted correctly and that it contains coordinate information for each population"
   ]
  },
  {
   "cell_type": "code",
   "execution_count": null,
   "id": "92d3b181-9717-42e0-9051-bfc05d7d594c",
   "metadata": {
    "tags": []
   },
   "outputs": [],
   "source": [
    "results_coords"
   ]
  },
  {
   "cell_type": "markdown",
   "id": "bd3a0ec7-50c0-4e9e-99b3-a525fdf15f26",
   "metadata": {},
   "source": [
    "### It's time to plot your results using the python library geopandas"
   ]
  },
  {
   "cell_type": "markdown",
   "id": "2bb8f3f5-7249-4ac0-9614-38e57da3306d",
   "metadata": {},
   "source": [
    "First you'll need to reformat your results dataframe to add the information that geopandas requires. And you'll also need to load in some additional information that geopandas will use to make the world map"
   ]
  },
  {
   "cell_type": "code",
   "execution_count": null,
   "id": "85bc339a-62ac-41cd-95c2-ff7a65887f8d",
   "metadata": {},
   "outputs": [],
   "source": [
    "#Prepare your data to plot with geopandas\n",
    "gdf = gpd.GeoDataFrame(results_coords, geometry=gpd.points_from_xy(results_coords.long,results_coords.lat))\n",
    "\n",
    "# Load in map information - we're using 'naturalearth_lowres' data originally from https://www.naturalearthdata.com/downloads/110m-cultural-vectors/.\n",
    "shapefile_path = \"~/153784/data/reference_data/map_data/ne_110m_admin_0_countries/ne_110m_admin_0_countries.shp\"  \n",
    "world = gpd.read_file(shapefile_path)\n",
    "\n",
    "#set the color scale - we're using viridis (see more options here: https://matplotlib.org/stable/users/explain/colors/colormaps.html)\n",
    "cm = plt.colormaps.get_cmap('viridis')"
   ]
  },
  {
   "cell_type": "markdown",
   "id": "7dadd9d8-d551-4ade-a4cf-9f96df9bf1a1",
   "metadata": {
    "tags": []
   },
   "source": [
    "The following code will create your map. Try adjusting the title, marker size and any other element that you'd like to change"
   ]
  },
  {
   "cell_type": "code",
   "execution_count": null,
   "id": "45873942-3b27-4f8d-a10c-fa10931219da",
   "metadata": {},
   "outputs": [],
   "source": [
    "#Create an empty map of the world\n",
    "fig, ax = plt.subplots(1, figsize=(15,7))\n",
    "ax.set_aspect('equal')\n",
    "world.plot(ax=ax, color='white', edgecolor='grey')\n",
    "\n",
    "#Add your data\n",
    "gdf.plot(ax=ax, marker='o', column=gdf[\"f3-statistic\"], cmap=cm, markersize=10, legend=True, label=\"f3-statistic\")\n",
    "\n",
    "#Add a title\n",
    "ax.set_title(\"Your Title Goes Here\", fontsize=15)\n",
    "\n",
    "#Show your plot\n",
    "plt.show()\n",
    "\n",
    "#Save your plot\n",
    "fig.savefig(\"f3-statistic-map.png\")"
   ]
  },
  {
   "cell_type": "markdown",
   "id": "1eae43e7-7e60-4d06-b45c-43c4cf5c817f",
   "metadata": {
    "tags": []
   },
   "source": [
    "Your map should now be saved in your practical_6 directory in a file called \"f3-statistic-map.png\""
   ]
  },
  {
   "cell_type": "markdown",
   "id": "89c48ec8-e118-4e7f-9768-a3e3faecf30f",
   "metadata": {},
   "source": [
    "### An extra challenge\n",
    "\n",
    "If you'd like a challenge, try making a second panel for your figure that zooms in on the region of the world that your individual shares the most matches to. Be sure to adjust the color scale so that the range shown is relevant to the region you are displaying. \n",
    "\n",
    "Check out the geopandas documentation if you aren't sure where to start: https://geopandas.org/en/stable/docs/user_guide.html"
   ]
  }
 ],
 "metadata": {
  "kernelspec": {
   "display_name": "Python 3 (ipykernel)",
   "language": "python",
   "name": "python3"
  },
  "language_info": {
   "codemirror_mode": {
    "name": "ipython",
    "version": 3
   },
   "file_extension": ".py",
   "mimetype": "text/x-python",
   "name": "python",
   "nbconvert_exporter": "python",
   "pygments_lexer": "ipython3",
   "version": "3.11.11"
  }
 },
 "nbformat": 4,
 "nbformat_minor": 5
}
