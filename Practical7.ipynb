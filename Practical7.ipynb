{
 "cells": [
  {
   "cell_type": "markdown",
   "id": "154aba5b-f87f-4ba1-94e4-024afabb8666",
   "metadata": {},
   "source": [
    "# Practical 7\n",
    "\n",
    "## Predicting phenotypes \n",
    "\n",
    "This week, you will use the programs `samtools` [1] to predict the genotype of your mystery genome at 47 SNPs of phenotypic interest, enabling you to make predictions about their likely phenotypes. Many of the phenotypes that you will consider in today’s exercise are controlled by a single locus (i.e. a monogenic trait) or by a small number of loci.\n"
   ]
  },
  {
   "cell_type": "markdown",
   "id": "5e35a9ee-dbeb-4667-ac00-e795a005e2e0",
   "metadata": {},
   "source": [
    "### Getting Started\n",
    "\n",
    "<b>If you haven't already done so, start an interactive session</b>\n",
    "\n",
    "- Sign in to https://ood.huit.harvard.edu/ \n",
    "- Navigate to `Interactive Apps → Jupyter Lab - HEB 115`\n",
    "- Launch a Jupyter Lab session with the following parameters:\n",
    "    - Number of hours: 2\n",
    "    - Number of CPUs: 4\n",
    "- When the session is ready, click “Connect to Jupyter”\n",
    "\n",
    "<b>Create a working directory (called \"practical_7\" from which you will run commands and store any files that you generate</b>"
   ]
  },
  {
   "cell_type": "markdown",
   "id": "b34db158-a66d-4c88-a19f-e142b038bbeb",
   "metadata": {},
   "source": [
    "```bash\n",
    "mkdir practical_7\n",
    "cd practical_7\n",
    "```"
   ]
  },
  {
   "cell_type": "markdown",
   "id": "7d759cfe-7a73-4a73-83a4-1767d038e478",
   "metadata": {},
   "source": [
    "<b>Copy these practical instructions to your working directory and open them as a Jupyter Notebook</b>"
   ]
  },
  {
   "cell_type": "markdown",
   "id": "cbbf62ae-93e0-4fac-a8ed-bda48e400898",
   "metadata": {},
   "source": [
    "```bash\n",
    "cp ~/153784/practical_instructions/Practical7.ipynb ./\n",
    "```"
   ]
  },
  {
   "cell_type": "markdown",
   "id": "33c4ddf7-25a6-43b0-818b-5ac3694f350d",
   "metadata": {},
   "source": [
    "Then navigate to the practical_7 directory on the sidebar and click on Practical7.ipynb to open it as a Jupyter Notebook"
   ]
  },
  {
   "cell_type": "markdown",
   "id": "48c5d717-cc30-4d77-80b6-6b26322df769",
   "metadata": {},
   "source": [
    "### Part 1) Prepare a positions file \n",
    "\n",
    "In today’s analysis, you will be considering a set of 47 SNPs of phenotypic interest. These are a subset of the SNPs of phenotypic interest that were analyzed in a 2023 study of Otzi the Iceman by Wang et al [2]. There is a copy of this snplist in:\n",
    "\n",
    "`~/153784/data/reference_data/Wang_2023_snplist.txt`\n",
    "\n",
    "You will need to provide a position list file to samtools in order to indicate what SNPs should be included in your analysis. The expected format of the position list file is described in the samtools mpileup documentation as part of the description of the -l  parameter (also called the --positions parameter).\n",
    "\n",
    "Prepare the positions file using either of the methods described and save it in your `practical_7` working directory. "
   ]
  },
  {
   "cell_type": "markdown",
   "id": "89db94b6-9277-462f-a81e-abd043b0cf69",
   "metadata": {},
   "source": [
    "### Part 2) Count the number of reference and alternative alleles at each SNP position using samtools mpileup\n",
    "\n",
    "Next, use the `mpileup` function from `samtools` [1] to count the number of reference and alternative alleles that align to each position of interest, with the following command:"
   ]
  },
  {
   "cell_type": "markdown",
   "id": "18884fd2-b167-4b49-97f3-0ffab72c55a1",
   "metadata": {},
   "source": [
    "```bash\n",
    "samtools mpileup {POINTER TO YOUR MYSTERY BAM} -f ~/153784/data/reference_genomes/human_g1k_v37.fasta  -l {POINTER TO YOUR POSITIONS LIST FILE} -Q 30 -q 30 -B > samtools_mpileup_output.txt\n",
    "```"
   ]
  },
  {
   "cell_type": "markdown",
   "id": "50d3bdbf-e3db-4834-8cbb-7f8f3f4eb2ed",
   "metadata": {},
   "source": [
    "This will create a file called `samtools_mpileup_output.txt` that contains information about the reads that align to each position of interest specified in your positions list. \n",
    "\n",
    "Be sure to review the samtools mpileup documentation (https://www.htslib.org/doc/samtools-mpileup.html) to interpret the mpileup file you created. \n",
    "\n",
    "You can learn more about phred quality scores (shown in the last column of the results file) and the ASCii encoding system here: https://people.duke.edu/~ccc14/duke-hts-2018/bioinformatics/quality_scores.html \n"
   ]
  },
  {
   "cell_type": "markdown",
   "id": "9d0bb534-0c94-48ce-b203-ede28bf40071",
   "metadata": {
    "jp-MarkdownHeadingCollapsed": true
   },
   "source": [
    "### Part 3) Create a table with your results \n",
    "\n",
    "Create a table that contains the following information for each of the positions of interest from the Wang et al [2] study. \n",
    "\n",
    "In this table you should include the following columns from the Wang et al [2] table:\n",
    "\n",
    "- SNP ID\n",
    "- Gene\n",
    "- Chromosome\n",
    "- Position\n",
    "- Reference Allele \n",
    "- Alternative allele (if known)\n",
    "- Effect allele (i.e. this is the allele that is associated with the phenotype)\n",
    "- A brief phenotype description\n",
    "- A detailed phenotype description (if available)\n",
    "- Whether or not the SNP of interest is included in the 1240k array (Note - This column wasn't included in the original Wang et al [2] publication)\n",
    "\n",
    "You should also add the following columns based on the results of your analyses:\n",
    "- The number of reads that align to this positon\n",
    "- The number of reference alleles observed\n",
    "- The number of alternative alleles observed\n",
    "  \n",
    "\n",
    "*Note - Be sure to report positions that have no overlapping reads for your mystery genome. These positions won't be reported in the output of samtools mpileup*"
   ]
  },
  {
   "cell_type": "markdown",
   "id": "26cd6dd3-a455-4936-8df6-d533126c93f3",
   "metadata": {},
   "source": [
    "### Part 4) Visualizing the sequence alignments at a SNP of interest\n",
    "\n",
    "Based on your results from part 3, choose three SNPs of interest (that impact different phenotypes) that you want to investigate further. \n",
    "\n",
    "When making your choice, you are welcome to prioritize SNPs that interest you most based on the phenotypes they impact, but you should also make sure to choose SNPs that have (relatively) good coverage based on the read counts you report in your table from part 3. See below for more things to consider when selecting which SNPs to investiage."
   ]
  },
  {
   "cell_type": "markdown",
   "id": "6cc896a7-4357-46a8-884e-4f17d582d13f",
   "metadata": {},
   "source": [
    "For each SNP you choose, use `samtools tview` [1]  (https://www.htslib.org/doc/samtools-tview.html) to visualize it, using the following command:"
   ]
  },
  {
   "cell_type": "markdown",
   "id": "4c93dbea-28a8-4639-9520-b3513db38c75",
   "metadata": {},
   "source": [
    "```bash\n",
    "samtools tview -d T -p {CHROMOSOME}:{STARTING POSITION} {POINTER TO YOUR MYSTERY BAM} ~/139860/data/reference_genomes/human_g1k_v37.fasta\n",
    "```"
   ]
  },
  {
   "cell_type": "markdown",
   "id": "e7d60b5f-f4d2-42f9-8682-5f57d033916d",
   "metadata": {},
   "source": [
    "*Note - The starting position that you specify will be the leftmost position output by samtools tview. Be sure to choose a starting position that centers the position of interest in the middle of the screen, ideally showing the start and end position of each read that overlaps the position (although this may not be possible for particularly long reads).* \n",
    "\n",
    "Take a screenshot showing the output of samtools tview for each of your chosen SNPs of interest to include as a figure in your report."
   ]
  },
  {
   "cell_type": "markdown",
   "id": "befdd70b-f93a-4740-b61c-70e6859c76c3",
   "metadata": {
    "jp-MarkdownHeadingCollapsed": true
   },
   "source": [
    "## When you are finished\n",
    "\n",
    "### Be sure to include the following in your report: \n",
    "<b>Methods section</b>: <br>\n",
    "Be sure to describe each of the methods that you used to learn about the positions of interest in your mystery genome in parts 2 and 4. \n",
    "- You should not describe how you made your position list (although you should describe how many positions you include in your analysis and where they were chosen from, i.e. from the Wang et al [2] study)\n",
    "\n",
    "<b>Results section</b>: <br>\n",
    "Be sure to include the following in your results section:\n",
    "- The table described in part 3\n",
    "- A figure (i.e. a screenshot) showing the output of `samtools tview` for your chosen SNPs of interest. Overlay an arrow or a box to highlight where the SNP of interest is in the figure. \n",
    "\n",
    "<b>Conclusion section</b>: <br>\n",
    "For each of the three SNPs you chose to visualize in part 4: \n",
    "- Briefly describe what is known about the SNP and its impact on phenotype. If there are mutliple SNPs that impact this phenotype, be sure to indicate this and specify how these SNPs work together to determine phenotype. \n",
    "- Based on the number of refererence and alternative alleles that aligned to your SNP of itnerest, make a prediction about your mystery genome's likely genotype at this position. How confident are you in this prediction? Be sure to explain your reasoning. \n",
    "- Based on your genotype prediction at this position (and any other SNP positions that you investigated during this exercise that also impact this phenotype, if relevant) make a prediction about your mystery individual’s likely phenotype. How confident are you in this prediction? Be sure to explain your reasoning.\n",
    "\n",
    "\n",
    "*Keep in mind:*\n",
    "- Check the “A brief phenotype description” column in  `Wang_2023_snplist.txt` to see if there are multiple SNPs that control the same phenotype. This list is sorted in order of chromosome position (not by grouping related phenotypes together), so be sure to check the entire list.\n",
    "- When choosing which SNPs to investigate, keep in mind whether they are relevant to your individual, based on their known ancestry and number of reads that overlap the positions of interest. \n",
    "    - For example, if you have previously determined that your individual has entirely European ancestry it wouldn’t be very interesting to highlight that they are homozygous for the G allele at the rs1229984 SNP, which is associated with the alcohol flush reaction, as this allele is fixed (i.e. occurs at 100% frequency) in European populations. \n",
    "    - Similarly, it would not be very interesting to tell me that you observed zero reads aligning to a particular position of interest.\n",
    "    - You might find that the most exciting SNPs to examine might be those that have moderate sequence depth and that carry both the reference and alternative alleles. By examining these positions in more detail, you can investigate whether your mystery genome is heterozygous at these positions or if their might be a sequencing error or other factor impacting the distribution of reads you observed\n",
    "- Your description of the role that the SNPs play in defining each phenotype should be based on your own research, and it should reference studies published in academic journals. You may use sites like wikipedia and https://www.snpedia.com/ to help in your search for relevant references, but don’t cite them in your report.\n",
    "\n",
    "\n",
    "### Additional Questions to answer at the end of your report: \n",
    "1) Identify and describe what each of the optional parameters that you used when running `samtools mpileup` did.\n",
    "2) What do you notice about the relative number of sequences that align to positions that are included on the 1240k array versus those that are not? Provide a possible explanation for the pattern that you observe. How do you think this pattern might differ for the other mystery genomes that your classmates are analyzing? \n",
    "3) Describe a scenario in which it might be useful to visualize the sequences that align to a position of interest using `samtools tview`. \n",
    "4) When viewing the aligned reads using `samtools tview`, the total number of sequences that you see might be greater than the numbers output by the samtools mpileup and bcftools mpileup commands that you ran. What is a possible explaination for this descrepancy?\n"
   ]
  },
  {
   "cell_type": "markdown",
   "id": "15f3c7b0-99b1-4dde-8fda-ab85b01e794f",
   "metadata": {},
   "source": [
    "### References\n",
    "1) Danecek, Petr, et al. \"Twelve years of SAMtools and BCFtools.\" Gigascience 10.2 (2021): giab008. https://doi.org/10.1093/gigascience/giab008\n",
    "2) Wang, Ke, et al. \"High-coverage genome of the Tyrolean Iceman reveals unusually high Anatolian farmer ancestry.\" Cell Genomics 3.9 (2023).\n",
    "\n",
    "\n",
    "## Additional Resources\n",
    "1) The University of Chicago’s Geography of Genetic Variants Browser (https://popgen.uchicago.edu/ggv) is a handy tool for learning more about the geographic distribution of SNPs of interest. \n",
    "    - Make sure you pay attention to the key on the right side of the map, as the scale shown in the pie chart can vary\n",
    "2) SNPedia (https://www.snpedia.com/) is a wiki that contains lots of information about SNPs. Like wikipedia, it should not be used as a reference in your reports, but it can point you towards useful references from academic publications.\n",
    "    - Sometimes the reference / alternative alleles listed on SNPedia can refer to the opposite strand and are therefore the complements of the alleles in the reference genome that your mystery genome is aligned to. So if the alleles don't seem to match your expectation, this might be the reason why.\n"
   ]
  }
 ],
 "metadata": {
  "kernelspec": {
   "display_name": "Python 3 (ipykernel)",
   "language": "python",
   "name": "python3"
  },
  "language_info": {
   "codemirror_mode": {
    "name": "ipython",
    "version": 3
   },
   "file_extension": ".py",
   "mimetype": "text/x-python",
   "name": "python",
   "nbconvert_exporter": "python",
   "pygments_lexer": "ipython3",
   "version": "3.11.11"
  }
 },
 "nbformat": 4,
 "nbformat_minor": 5
}
