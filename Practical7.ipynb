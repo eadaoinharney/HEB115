{
 "cells": [
  {
   "cell_type": "markdown",
   "id": "154aba5b-f87f-4ba1-94e4-024afabb8666",
   "metadata": {},
   "source": [
    "# Practical 7\n",
    "\n",
    "## Predicting phenotypes \n",
    "\n",
    "This week, you will use the programs `samtools` and `bcftools` [1] to predict the genotype of your mystery genome at 47 SNPs of phenotypic interest, enabling you to make predictions about their likely phenotypes. Many of the phenotypes that you will consider in today’s exercise are controlled by a single locus (i.e. a monogenic trait) or by a small number of loci. \n",
    "\n",
    "For this analysis, you will return to the softclipped BAM files you made in practical 1, since you want to consider the individual DNA sequences that overlap the SNPs of interest. \n"
   ]
  },
  {
   "cell_type": "markdown",
   "id": "5e35a9ee-dbeb-4667-ac00-e795a005e2e0",
   "metadata": {},
   "source": [
    "### Getting Started\n",
    "\n",
    "<b>If you haven't already done so, start an interactive session</b>\n",
    "\n",
    "- Sign in to https://ood.huit.harvard.edu/ \n",
    "- Navigate to `Interactive Apps → Jupyter Lab`\n",
    "- Launch a Jupyter Lab session with the following parameters:\n",
    "    - Number of hours: 2\n",
    "    - Number of CPUs: 2\n",
    "- When the session is ready, click “Connect to Jupyter”\n",
    "\n",
    "<b>Create a working directory (called \"practical_7\" from which you will run commands and store any files that you generate</b>"
   ]
  },
  {
   "cell_type": "raw",
   "id": "c9d2cac7-1eae-4cf4-89ff-961a6f44da14",
   "metadata": {},
   "source": [
    "mkdir practical_7\n",
    "cd practical_7"
   ]
  },
  {
   "cell_type": "markdown",
   "id": "7d759cfe-7a73-4a73-83a4-1767d038e478",
   "metadata": {},
   "source": [
    "<b>Copy these practical instructions to your working directory and open them as a Jupyter Notebook</b>"
   ]
  },
  {
   "cell_type": "raw",
   "id": "9168d7a9-c3e0-4af9-9e14-d68ad133512a",
   "metadata": {},
   "source": [
    "cp ~/139860/practical_instructions/Practical7.ipynb ./"
   ]
  },
  {
   "cell_type": "markdown",
   "id": "33c4ddf7-25a6-43b0-818b-5ac3694f350d",
   "metadata": {},
   "source": [
    "Then navigate to the practical_7 directory on the sidebar and click on Practical7.ipynb to open it as a Jupyter Notebook"
   ]
  },
  {
   "cell_type": "markdown",
   "id": "48c5d717-cc30-4d77-80b6-6b26322df769",
   "metadata": {},
   "source": [
    "### Part 1) Prepare a positions file \n",
    "\n",
    "In today’s analysis, you will be considering a set of 47 SNPs of phenotypic interest. These are a subset of the SNPs of phenotypic interest that were analyzed in a 2023 study of Otzi the Iceman by Wang et al [2]. There is a copy of this snplist in:\n",
    "\n",
    "`~/139860/data/reference_data/Wang_2023_snplist.txt`\n",
    "\n",
    "In parts 2 and 3, you will need to provide a position list file to samtools and bcftools in order to indicate what SNPs should be included in your analysis. The expected format of the position list file is described in the samtools mpileup documentation as part of the description of the -l  parameter (also called the --positions parameter).\n",
    "\n",
    "Prepare the positions file using either of the methods described and save it in your `practical_7` working directory. "
   ]
  },
  {
   "cell_type": "markdown",
   "id": "89db94b6-9277-462f-a81e-abd043b0cf69",
   "metadata": {},
   "source": [
    "### Part 2) Count the number of reference and alternative alleles at each SNP position using samtools mpileup\n",
    "\n",
    "Next, use the `mpileup` function from `samtools` [1] to count the number of reference and alternative alleles that align to each position of interest, with the following command:"
   ]
  },
  {
   "cell_type": "raw",
   "id": "166f724a-055b-4538-8a5f-6fe640b1a488",
   "metadata": {},
   "source": [
    "samtools mpileup {POINTER TO YOUR SOFTCLIPPED BAM} -f ~/139860/data/reference_genomes/human_g1k_v37.fasta  -l {POINTER TO YOUR POSITIONS LIST FILE} -Q 30 -q 30 -B > samtools_mpileup_output.txt"
   ]
  },
  {
   "cell_type": "markdown",
   "id": "50d3bdbf-e3db-4834-8cbb-7f8f3f4eb2ed",
   "metadata": {},
   "source": [
    "This will create a file called `samtools_mpileup_output.txt` that contains information about the reads that align to each position of interest specified in your positions list. \n",
    "\n",
    "Be sure to review the samtools mpileup documentation (https://www.htslib.org/doc/samtools-mpileup.html) to interpret the mpileup file you created. \n",
    "\n",
    "You can learn more about phred quality scores (shown in the last column of the results file) and the ASCii encoding system here: https://people.duke.edu/~ccc14/duke-hts-2018/bioinformatics/quality_scores.html \n"
   ]
  },
  {
   "cell_type": "markdown",
   "id": "07d763a0-1b70-49fb-a1ab-1c9347faac21",
   "metadata": {},
   "source": [
    "### Part 3) Calculate genotype likelihoods at each SNP position using bcftools mpileup\n",
    "\n",
    "In this part, you will use the `mpileup` function from `bcftools` [1] to create a vcf file that contains genotype likelihoods at each position of interest, with the following command:\n"
   ]
  },
  {
   "cell_type": "raw",
   "id": "ebfed2cf-ce20-469c-89c1-1914ecee9128",
   "metadata": {},
   "source": [
    "bcftools mpileup -f ~/139860/data/reference_genomes/human_g1k_v37.fasta -T {POINTER TO YOUR POSITIONS LIST FILE} -Q 30 -q 30 -a AD {POINTER TO YOUR SOFTCLIPPED BAM} > bcftools_mpileup_output.vcf"
   ]
  },
  {
   "cell_type": "markdown",
   "id": "f5345f43-7abc-45e0-944b-ce810954bd6a",
   "metadata": {},
   "source": [
    "This will create another output file called `bcftools_mpileup_output.vcf` that contains information about the reads that align to each position of interest. \n",
    "\n",
    "Be sure to review the `bcftools mpileup` documentation (https://samtools.github.io/bcftools/bcftools.html#mpileup) to interpret your the vcf file you generated. \n",
    "\n",
    "A few things to keep in mind about your bcftools results:\n",
    "\n",
    "1) `bcftools` knows what the reference allele is at the position of interest (since you provided a reference sequence), it does not know what alternative allele to expect. In cases where there are no alternative alleles observed, `bcftools mpileup` will return three comma separated genotype likelihoods in the first part of the last column of the vcf file (i.e. to the left of the colon), corresponding to the likelihood of the homozygous reference, heterozygous, and homozygous alternative states. In cases where one or more alternative alleles are observed, bcftools mpileup will return six comma separated genotype likelihoods. The first three correspond to the genotype likelihoods assuming that the alternative allele matches the observed alternative allele. The last three correspond to the genotype likelihoods assuming that the alternative allele matches something other than what was observed. In your table, you can just report the first three genotype likelihoods (unless you happen to run into the unexpected case where the observed alternative allele doesn’t match the expected alternative allele listed in the `Wang_2023_snplist.txt` file, in which case you can report all six genotype likelihood scores and indicate this in some way in the table you produce).\n",
    "2) The genotype likelihood scores are “Phred-scaled,” meaning that the raw likelihood of that genotype is equal to 10-P/10, where P is the Phred score (so the higher the number, the *less* likely it is that your sample has that genotype). The sum of likelihoods is not necessarily 1.\n"
   ]
  },
  {
   "cell_type": "markdown",
   "id": "9d0bb534-0c94-48ce-b203-ede28bf40071",
   "metadata": {
    "jp-MarkdownHeadingCollapsed": true
   },
   "source": [
    "### Part 4) Create a table with your results \n",
    "\n",
    "Using the results you generated in parts 2 and 3, create a table that contains the following information for each of the positions of interest from the Wang et al [2] study. \n",
    "\n",
    "In this table you should include the following columns from the Wang et al [2] table:\n",
    "\n",
    "- SNP ID\n",
    "- Gene\n",
    "- Chromosome\n",
    "- Position\n",
    "- Reference Allele \n",
    "- Alternative allele (if known)\n",
    "- Effect allele (i.e. this is the allele that is associated with the phenotype)\n",
    "- A brief phenotype description\n",
    "- A detailed phenotype description (if available)\n",
    "- Whether or not the SNP of interest is included in the 1240k array (Note - This column wasn't included in the original Wang et al [2] publication)\n",
    "\n",
    "You should also add the following columns based on the results of your analyses:\n",
    "- The number of reads that align to this positon (excluding ones that have been ignored due to softclipping)\n",
    "- The number of reference alleles observed\n",
    "- The number of alternative alleles observed\n",
    "- The genotype likelihood scores (Report all three values; it is up to you whether to include them in a single column or to split them out into three columns. Consider explaining what these values represent in your table caption)\n",
    "- The most likley genotype, based on the genotype likehood scores (if there are multiple genotypes that are equally likely, you can leave this blank)\n",
    "\n",
    "In some cases, the information that you need will be reported in multiple places in your results files. It is up to you to decide where you pull this information from. \n",
    "\n",
    "*Note - Be sure to report positions that have no overlapping reads for your mystery genome. These positions won't be reported in your results*"
   ]
  },
  {
   "cell_type": "markdown",
   "id": "26cd6dd3-a455-4936-8df6-d533126c93f3",
   "metadata": {},
   "source": [
    "### Part 5) Visualizing the sequence alignments at a SNP of interest\n",
    "\n",
    "Based on your results from part 4, choose a SNP of interest that you want to investigate further and use `samtools tview` [1]  (https://www.htslib.org/doc/samtools-tview.html) to visualize it, using the following command:"
   ]
  },
  {
   "cell_type": "raw",
   "id": "055b6d44-b389-4574-9b3b-d5995558ed99",
   "metadata": {},
   "source": [
    "samtools tview -d T -p {CHROMOSOME}:{STARTING POSITION} {POINTER TO YOUR SOFTCLIPPED BAM} ~/139860/data/reference_genomes/human_g1k_v37.fasta"
   ]
  },
  {
   "cell_type": "markdown",
   "id": "e7d60b5f-f4d2-42f9-8682-5f57d033916d",
   "metadata": {},
   "source": [
    "*Note - The starting position that you specify will be the leftmost position output by samtools tview. Try to choose a starting position that centers the position of interest in the middle of the screen, ideally showing the start and end position of each read that overlaps the position (although this may not be possible for particularly long reads).* \n",
    "\n",
    "Take a screenshot showing the output of samtools tview for your chosen SNP of interest to include as a figure in your report."
   ]
  },
  {
   "cell_type": "markdown",
   "id": "befdd70b-f93a-4740-b61c-70e6859c76c3",
   "metadata": {
    "jp-MarkdownHeadingCollapsed": true
   },
   "source": [
    "## When you are finished\n",
    "\n",
    "### Be sure to include the following in your report: \n",
    "<b>Methods section</b>: <br>\n",
    "Be sure to describe each of the methods that you used to learn about the positions of interest in your mystery genome in parts 2, 3 and 5. \n",
    "- You should not describe how you made your position list (although you should describe how many positions you include in your analysis and where they were chosen from, i.e. from the Wang et al [2] study)\n",
    "\n",
    "<b>Results section</b>: <br>\n",
    "Be sure to include the following in your results section:\n",
    "- The table described in part 4\n",
    "- A figure (i.e. a screenshot) showing the output of `samtools tview` for your chosen SNP of interest. Overlay an arrow or a box to highlight where the SNP of interest is in the figure. \n",
    "\n",
    "<b>Conclusion section</b>: <br>\n",
    "Based on the results of your analyses, choose 3 phenotypes of interest to discuss in detail. \n",
    "- For each of the SNPs (or sets of SNPs) associated with your phenotypes of interest, briefly describe (in 1-3 sentences) what is known about the SNP (or set of SNPs). Be sure to describe the relationship between the genotype(s) at the SNP(s) and the expected phenotype. \n",
    "- For each of the phenotypes you have chosen, make a prediction about your mystery individual’s likely phenotype. How confident are you in this prediction? Be sure to explain your reasoning. \n",
    "\n",
    "*Keep in mind:*\n",
    "- If there are multiple SNPs that control the same phenotype (as indicated by the “A brief phenotype description” column in  `Wang_2023_snplist.txt`), be sure to discuss them all. \n",
    "- While you are encouraged to choose traits that are of interest to you, they should also be relevant to your individual, based on their known ancestry and number of reads that overlap the positions of interest. \n",
    "    - For example, if you have previously determined that your individual has entirely European ancestry it wouldn’t be very interesting to highlight that they are homozygous for the G allele at the rs1229984 SNP, which is associated with the alcohol flush reaction, as this allele is fixed (i.e. occurs at 100% frequency) in European populations. \n",
    "    - Similarly, it would not be very interesting to tell me that you observed no reference or alternative alleles at a particular position of interest. \n",
    "- Your description of the role that the SNPs play in defining each phenotype should be based on your own research, and it should reference studies published in academic journals. You may use sites like wikipedia and https://www.snpedia.com/ to help in your search for relevant references, but don’t cite them in your report.\n",
    "\n",
    "\n",
    "### Additional Questions to answer at the end of your report: \n",
    "1) Identify and describe what each of the optional parameters that you used when running (a) `samtools mpileup` and (b) `bcftools mpileup` did. \n",
    "2) What do you notice about the relative number of sequences that align to positions that are included on the 1240k array versus those that are not? Provide a possible explanation for the pattern that you observe.\n",
    "3) Describe a scenario in which it might be useful to visualize the sequences that align to a position of interest using `samtools tview`. \n",
    "4) When viewing the aligned reads using `samtools tview`, the total number of sequences that you see might be greater than the numbers output by the samtools mpileup and bcftools mpileup commands that you ran. What is a possible explaination for this descrepancy?\n"
   ]
  },
  {
   "cell_type": "markdown",
   "id": "15f3c7b0-99b1-4dde-8fda-ab85b01e794f",
   "metadata": {},
   "source": [
    "### References\n",
    "1) Danecek, Petr, et al. \"Twelve years of SAMtools and BCFtools.\" Gigascience 10.2 (2021): giab008. https://doi.org/10.1093/gigascience/giab008\n",
    "2) Wang, Ke, et al. \"High-coverage genome of the Tyrolean Iceman reveals unusually high Anatolian farmer ancestry.\" Cell Genomics 3.9 (2023).\n",
    "\n",
    "\n",
    "## Additional Resources\n",
    "1) The University of Chicago’s Geography of Genetic Variants Browser (https://popgen.uchicago.edu/ggv) is a handy tool for learning more about the geographic distribution of SNPs of interest. \n",
    "    - Make sure you pay attention to the key on the right side of the map, as the scale shown in the pie chart can vary\n",
    "2) SNPedia (https://www.snpedia.com/) is a wiki that contains lots of information about SNPs. Like wikipedia, it should not be used as a reference in your reports, but it can point you towards useful references from academic publications.\n",
    "    - Sometimes the reference / alternative alleles listed on SNPedia can refer to the opposite strand and are therefore the complements of the alleles in the reference genome that your mystery genome is aligned to. So if the alleles don't seem to match your expectation, this might be the reason why.\n"
   ]
  }
 ],
 "metadata": {
  "kernelspec": {
   "display_name": "Python 3 (ipykernel)",
   "language": "python",
   "name": "python3"
  },
  "language_info": {
   "codemirror_mode": {
    "name": "ipython",
    "version": 3
   },
   "file_extension": ".py",
   "mimetype": "text/x-python",
   "name": "python",
   "nbconvert_exporter": "python",
   "pygments_lexer": "ipython3",
   "version": "3.11.9"
  }
 },
 "nbformat": 4,
 "nbformat_minor": 5
}
