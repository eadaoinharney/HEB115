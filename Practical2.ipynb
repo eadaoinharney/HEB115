{
 "cells": [
  {
   "cell_type": "markdown",
   "id": "154aba5b-f87f-4ba1-94e4-024afabb8666",
   "metadata": {},
   "source": [
    "## Practical 2\n",
    "\n",
    "## Determining Mitochondrial Haplogroups\n",
    "\n",
    "The purpose of today's practical is determine your mystery genome's mitochondrial haplogroup. Mitochondrial haplogroups are inherited maternally, so they can reveal information about an individual's ancestral origins on their maternal lineage. \n",
    "\n",
    "You will prepare a vcf file containing your mystery genome's mitochondrial genome, which you will then download and analyze using the tool Haplogrep3 (https://haplogrep.i-med.ac.at/)[1]. "
   ]
  },
  {
   "cell_type": "markdown",
   "id": "5e35a9ee-dbeb-4667-ac00-e795a005e2e0",
   "metadata": {},
   "source": [
    "### Getting Started\n",
    "\n",
    "<b>If you haven't already done so, start an interactive session</b>\n",
    "\n",
    "- Sign in to https://ood.huit.harvard.edu/ \n",
    "- Navigate to `Interactive Apps → Jupyter Lab`- HEB 115\n",
    "- Launch a Jupyter Lab session with the following parameters:\n",
    "    - Number of hours: 2\n",
    "    - Number of CPUs: 1\n",
    "- When the session is ready, click “Connect to Jupyter”\n",
    "\n",
    "<b>Create a working directory (called \"practical_2\" from which you will run commands and store any files that you generate</b>"
   ]
  },
  {
   "cell_type": "markdown",
   "id": "d41eb451-c77f-4648-a411-0caeef76b35a",
   "metadata": {},
   "source": [
    "```bash\n",
    "mkdir practical_2\n",
    "cd practical_2\n",
    "```"
   ]
  },
  {
   "cell_type": "markdown",
   "id": "7d759cfe-7a73-4a73-83a4-1767d038e478",
   "metadata": {},
   "source": [
    "<b>Copy these practical instructions to your working directory and open them as a Jupyter Notebook</b>"
   ]
  },
  {
   "cell_type": "markdown",
   "id": "3c900d34-6350-462b-b11a-ac0e19f9ddd4",
   "metadata": {},
   "source": [
    "```bash\n",
    "cp ~/153784/practical_instructions/Practical2.ipynb ./\n",
    "```"
   ]
  },
  {
   "cell_type": "markdown",
   "id": "33c4ddf7-25a6-43b0-818b-5ac3694f350d",
   "metadata": {},
   "source": [
    "Then navigate to the practical_2 directory on the sidebar and click on Practical2.ipynb to open it as a Jupyter Notebook"
   ]
  },
  {
   "cell_type": "markdown",
   "id": "7b089acc-0a90-4273-bb0e-e177eefd180d",
   "metadata": {},
   "source": [
    "### Part 1) Create a VCF file containing your mystery genome's mitochondrial DNA\n",
    "\n",
    "You will extract your mystery genome's mitochondrial DNA sequences from your whole-genome aligned bam file and realign them to the RSRS mitochondrial reference genome. Then you will call haploid genotypes at each position in the mitochondrial genome and save them as a VCF file that you can download and analyze with haplogrep3.\n",
    "\n",
    "<b>Part 1a) Create a symbolic link to your bam file </b>\n",
    "\n",
    "You can't write new files to the shared course directory where your mystery genome's bam file is stored. And the next step in this analysis requires you to create an index for your bam file, which needs to be stored in the same directory as the bam. How can we get around this problem? With a symbolic link! \n",
    "\n",
    "A symbolic link looks like a file, but instead it is really just a pointer to the real location where that file is stored. So let's make a symbolic link to your mystery genome. You can either place this symbolic link in your practical_2 directory or place it in your home directory so that it is easier to reference during future practicals. Just remember when you put it.\n",
    "\n",
    "You can create a symbolic link with this command:\n",
    "\n",
    "```bash\n",
    "ln -s {POINTER TO YOUR MYSTERY GENOME} {POINTER TO WHERE YOU WANT YOUR SYMBOLIC LINK TO GO}\n",
    "```\n",
    "\n",
    "So for instance, if I want to put my mystery genome in my home directory, I would use the command:\n",
    "\n",
    "```bash\n",
    "ln -s {POINTER TO YOUR MYSTERY GENOME} ./\n",
    "```"
   ]
  },
  {
   "cell_type": "markdown",
   "id": "2ec8718d-2248-4c61-8a65-35f4e655b125",
   "metadata": {},
   "source": [
    "<b>Part 1b) Index your mystery bam file </b>\n",
    "\n",
    "\n",
    "Now you are ready to index your bam file, using `samtools` [2]:"
   ]
  },
  {
   "cell_type": "markdown",
   "id": "cec45797-c5ee-43ed-9c05-de6bb963ca8a",
   "metadata": {},
   "source": [
    "```bash\n",
    "samtools index {POINTER TO YOUR MYSTERY GENOME - USE THE SYMBOLIC LINK}\n",
    "```"
   ]
  },
  {
   "cell_type": "markdown",
   "id": "27fb93f1-02eb-4575-92b2-1f75ab5f1f2c",
   "metadata": {},
   "source": [
    "Note - this will create a new file in the same directory as the symbolic link that you created, which will end with the suffix `.bai`. You won't actually use this file directly going forward, but samtools will be expecting it, and will error if it isn't there."
   ]
  },
  {
   "cell_type": "markdown",
   "id": "085bddf2-82a9-4212-a3b9-7a5bbe54e3d4",
   "metadata": {},
   "source": [
    "<b>Part 1c) Extract mitochondrial DNA reads</b>\n",
    "\n",
    "Use `samtools` [2] to extract mitochondrial reads and save them in a new bam file. "
   ]
  },
  {
   "cell_type": "markdown",
   "id": "c9a2b23e-36a8-4236-b359-60346abd5ce5",
   "metadata": {},
   "source": [
    "```bash\n",
    "samtools view -b -h -o {MYSTERY GENOME ALIAS}_MT.bam {POINTER TO YOUR MYSTERY GENOME} MT\n",
    "```"
   ]
  },
  {
   "cell_type": "markdown",
   "id": "79d02a7a-1fc3-4477-8403-10d44528ed18",
   "metadata": {},
   "source": [
    "<b>Part 1d) Convert your mitochondrial BAM file to fastq format</b>\n",
    "\n",
    "Use `samtools fastq` [2] to convert your mitochondrial BAM file to fastq format. By converting to fastq format (an unaligned format), this will make it possible for us to align the mitochondrial reads to a new reference genome in the next step"
   ]
  },
  {
   "cell_type": "markdown",
   "id": "4b43bbc4-731e-48ae-b6da-75d11b5a6577",
   "metadata": {},
   "source": [
    "```bash\n",
    "samtools fastq {MYSTERY GENOME ALIAS}_MT.bam > {MYSTERY GENOME ALIAS}_MT.fastq\n",
    "```"
   ]
  },
  {
   "cell_type": "markdown",
   "id": "617ca605-c8fd-4e9d-b301-c704cb92f808",
   "metadata": {},
   "source": [
    "<b>Part 1e) Realign the mitochondrial DNA reads to the RSRS Mitochondrial Reference Genome</b>\n",
    "\n",
    "Next, you'll use the tool `bwa` [3] to realign your mystery genome to the RSRS mitochondrial reference genome. You'll save the output as a SAM file (that's the non-compressed version of a BAM file)"
   ]
  },
  {
   "cell_type": "markdown",
   "id": "b3abbd0d-4a5e-4cce-9fb8-1130673e635a",
   "metadata": {},
   "source": [
    "```bash\n",
    "~/153784/tools/bwa/bwa mem  ~/153784/data/reference_genomes/mtdna_rsrs.fa {MYSTERY GENOME ALIAS}_MT.fastq > {MYSTERY GENOME ALIAS}_RSRS.sam\n",
    "```"
   ]
  },
  {
   "cell_type": "markdown",
   "id": "43b05cdb-17e9-4669-8245-e25a76b56b31",
   "metadata": {},
   "source": [
    "<b> Part 1f) Sort your SAM file </b>\n",
    "\n",
    "Before you can proceed any further, you'll need to make sure that the reads in the SAM file you just created are in sorted order."
   ]
  },
  {
   "cell_type": "markdown",
   "id": "ae9ade50-590f-4777-b831-45b3eb2d2349",
   "metadata": {},
   "source": [
    "```bash\n",
    "samtools sort -o {MYSTERY GENOME ALIAS}_RSRS_sorted.sam {MYSTERY GENOME ALIAS}_RSRS.sam\n",
    "```\n"
   ]
  },
  {
   "cell_type": "markdown",
   "id": "0e24b424-71cd-4900-afa2-5e47011cd072",
   "metadata": {},
   "source": [
    "<b> Part 1g) Call haploid genotypes \n",
    "\n",
    "Now you are ready to use the `mpileup` and `call` functions of `bcftools` [2] to create a VCF file that contains haploid genotypes for your mystery genome at every position in the mitochondrial genome. "
   ]
  },
  {
   "cell_type": "markdown",
   "id": "03597d85-4d49-4b3d-bd18-80011dcbcfc0",
   "metadata": {},
   "source": [
    "```bash\n",
    "bcftools mpileup -f ~/153784/data/reference_genomes/mtdna_rsrs.fa --min-MQ 30 --min-BQ 20 {MYSTERY GENOME ALIAS}_RSRS_sorted.sam | bcftools call --ploidy 1 -mv -Ov -o {MYSTERY GENOME ALIAS}_RSRS.vcf\n",
    "```"
   ]
  },
  {
   "cell_type": "markdown",
   "id": "adc6ab91-0cb0-4209-99dd-05ff1dc2705d",
   "metadata": {},
   "source": [
    "When your VCF file is ready, you can download it by left-clicking on the file name in the sidebar. "
   ]
  },
  {
   "cell_type": "markdown",
   "id": "febba723-6db2-4bef-9aba-9498fb3a3d8b",
   "metadata": {},
   "source": [
    "### Part 2) Use haplogrep3 to determine the mitochondrial haplogroup of your mystery genome\n",
    "\n",
    "In your web browser, navigate to https://haplogrep.i-med.ac.at/\n",
    "- Upload the vcf you created for your mystery genome\n",
    "- Choose the following options:\n",
    "    - File Format: Auto-Detect (Default)\n",
    "    - Choose the phylogenetic tree: PhyloTree 17.1 (Not the default)\n",
    "    - Distance function: Kulczynski (Default)\n",
    "- Click Upload and Classify\n",
    "\n",
    "Now its time to explore the results produced for your mystery genome. "
   ]
  },
  {
   "cell_type": "markdown",
   "id": "bbe9d3fc-69b6-4139-a596-322e58105bc4",
   "metadata": {},
   "source": [
    "#### Part 3) Learn more about your mystery genome's assigned haplogroup\n",
    "\n",
    "Now it's time to do some research to learn more about your mystery genome's assigned haplogroup. See if you can find any academic papers or maps that describe the global distribution of this haplogroup. \n",
    "\n",
    "<i><b>Tip</b> If your haplogroup is really specific, you may need to search for one of the broader haplogroups to which it belongs (e.g., if your individual is assigned to haplogroup J1b1a1a, if you can't find anything about that specific haplogroup, try searching for information about haplogroup J1b1a1 or J1b1a and so on).</i>"
   ]
  },
  {
   "cell_type": "markdown",
   "id": "37fd24a8-c299-4caa-b010-f1c8a0edf80b",
   "metadata": {
    "jp-MarkdownHeadingCollapsed": true
   },
   "source": [
    "## When you are finished\n",
    "\n",
    "### Be sure to include the following in your report: \n",
    "<b>Methods section</b>: <br>\n",
    "A description of each of the analyses that you performed. \n",
    "\n",
    "<b>Results section</b>: <br>\n",
    "Be sure to include the following in your results section:\n",
    "- Your mystery genome's assigned haplogroup\n",
    "- The broader cluster to which the assigned haplogroup belongs (according to haplogrep).\n",
    "- The quality score associated with the assigned haplogroup. Were there any other haplogrups (i.e. Additional Hits) that recieved an equal quality score? If so, be sure to indicate what they were.\n",
    "- A table detailing the Expected and Included Mutations, Expected But Not Included Mutations and any Remaining Mutations \n",
    "\n",
    "<b>Conclusion section</b>: <br>\n",
    "Be sure to address the following, based on the results of your analyses: \n",
    "- How confident you are in your mystery genome's assigned mitochondrial haplogroup. \n",
    "- The population(s) where the cluster to which your mystery genome’s haplogroup belongs occurs at the highest frequency, along with the total number of haplogroups assigned to that cluster.\n",
    "- Anything further that you have learned about your mystery genome’s assigned haplogroup.\n",
    "  - Describe what the outside literature says about your assigned haplogroup.\n",
    "  - Include any maps that you might have found showing the distribution of this haplogroup (or the broader cluster to which it belongs). \n",
    "\n",
    "\n",
    "### Additional Questions to answer at the end of your report: \n",
    "1) Why did we need to realign your mystery genome to the RSRS mitochondrial genome? \n",
    "2) What do each of the bcftools commands that you used to prepare your vcf file in part 1f do? \n",
    "3) What does Haplogrep3 mean by “expected” and “remaining” mutations?\n",
    "4) Briefly explain how the quality score is calculated by the Kulczynski distance function?\n",
    "\n"
   ]
  },
  {
   "cell_type": "markdown",
   "id": "d0bb7e33-144a-48c8-8a8a-ad702b8f6d67",
   "metadata": {},
   "source": [
    "## References\n",
    "\n",
    "1) Schönherr, Sebastian, et al. \"Haplogrep 3-an interactive haplogroup classification and analysis platform.\" Nucleic Acids Research (2023): gkad284. https://doi.org/10.1093/nar/gkad284\n",
    "2) Danecek, Petr, et al. \"Twelve years of SAMtools and BCFtools.\" Gigascience 10.2 (2021): giab008. https://doi.org/10.1093/gigascience/giab008\n",
    "3) Li H. and Durbin R. (2009) Fast and accurate short read alignment with Burrows-Wheeler Transform. Bioinformatics, 25:1754-60. [PMID: 19451168]"
   ]
  }
 ],
 "metadata": {
  "kernelspec": {
   "display_name": "Python 3 (ipykernel)",
   "language": "python",
   "name": "python3"
  },
  "language_info": {
   "codemirror_mode": {
    "name": "ipython",
    "version": 3
   },
   "file_extension": ".py",
   "mimetype": "text/x-python",
   "name": "python",
   "nbconvert_exporter": "python",
   "pygments_lexer": "ipython3",
   "version": "3.11.11"
  }
 },
 "nbformat": 4,
 "nbformat_minor": 5
}
