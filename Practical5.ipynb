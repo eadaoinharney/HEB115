{
 "cells": [
  {
   "cell_type": "markdown",
   "id": "154aba5b-f87f-4ba1-94e4-024afabb8666",
   "metadata": {},
   "source": [
    "# Practical 5\n",
    "\n",
    "## Assessing genetic ancestry II - ADMIXTURE\n",
    "\n",
    "This week, you’ll use the tool `ADMIXTURE` [1] to explore the ancestry of your mystery genome by comparing it to 26 populations from across the globe from the 1000 Genomes dataset. \n",
    "\n",
    "Before you begin this week’s practical, take a moment to familiarize yourself with the ADMIXTURE documentation here: https://dalexander.github.io/admixture/admixture-manual.pdf. We’ll also be using the tool `plink` [2-3] to filter our data before we run the `ADMIXTURE` analysis. `plink` is another extremely powerful tool that has many additional uses that we won’t explore in this practical and you can learn more about it here: https://www.cog-genomics.org/plink/\n",
    "\n",
    "For this assignment, you’ll be replicating the ADMIXTURE plot from The 1000 Genomes Project Consortium phase 3 paper [4]. You’ll also include your mystery individual to see how they compare to each of the 26 1000 Genomes populations included in the original analysis. The method you use to create your ADMIXTURE plot will differ from what is described in the 1000 Genomes Project paper [4]. Instead, refer to the supplementary materials of Sedig et al [5] for an example of how to describe your results.\n",
    "\n",
    "Remember that while you are using data from the 1000 Genomes dataset, you are still running your analysis on the Human Origins SNP set and you downloaded the data from the Ancient Allen DNA Resource (AADR) [6,7]."
   ]
  },
  {
   "cell_type": "markdown",
   "id": "5e35a9ee-dbeb-4667-ac00-e795a005e2e0",
   "metadata": {},
   "source": [
    "### Getting Started\n",
    "\n",
    "<b>If you haven't already done so, start an interactive session</b>\n",
    "\n",
    "- Sign in to https://ood.huit.harvard.edu/ \n",
    "- Navigate to `Interactive Apps → Jupyter Lab`\n",
    "- Launch a Jupyter Lab session with the following parameters:\n",
    "    - Number of hours: 2\n",
    "    - Number of CPUs: 2\n",
    "- When the session is ready, click “Connect to Jupyter”\n",
    "\n",
    "<b>Create a working directory (called \"practical_5\" from which you will run commands and store any files that you generate</b>"
   ]
  },
  {
   "cell_type": "markdown",
   "id": "9c20f9fb-b896-4717-a53d-de87cf3b2f33",
   "metadata": {},
   "source": [
    "```bash\n",
    "mkdir practical_5\n",
    "cd practical_5\n",
    "```"
   ]
  },
  {
   "cell_type": "markdown",
   "id": "7d759cfe-7a73-4a73-83a4-1767d038e478",
   "metadata": {},
   "source": [
    "<b>Copy these practical instructions to your working directory and open them as a Jupyter Notebook</b>"
   ]
  },
  {
   "cell_type": "markdown",
   "id": "f9473102-38bb-46a2-af1e-ebd51df25e4b",
   "metadata": {},
   "source": [
    "```bash\n",
    "cp ~/139860/practical_instructions/Practical5.ipynb ./\n",
    "```"
   ]
  },
  {
   "cell_type": "markdown",
   "id": "33c4ddf7-25a6-43b0-818b-5ac3694f350d",
   "metadata": {},
   "source": [
    "Then navigate to the practical_5 directory on the sidebar and click on Practical5.ipynb to open it as a Jupyter Notebook"
   ]
  },
  {
   "cell_type": "markdown",
   "id": "edf5749d-3c1a-4263-a368-3dbc40e27cba",
   "metadata": {},
   "source": [
    "### Part 1) Convert your analysis dataset to ped format \n",
    "\n",
    "The program `ADMIXTURE` [1] cannot take input data in `PACKEDANCESTRYMAP` format, so the first step of your analysis will be to convert your working dataset (from practical 0) into a format that it can operate on. We’ll use `ped` format (https://www.cog-genomics.org/plink/1.9/input#ped)\n",
    "\n",
    "For this analysis, you’ll compare your mystery genome to the following populations from the 1000 Genomes dataset:"
   ]
  },
  {
   "cell_type": "markdown",
   "id": "3163b471-ea5a-42cf-a67c-d7894ee7e57a",
   "metadata": {},
   "source": [
    "```bash\n",
    "LWK.DG\n",
    "ESN.DG\n",
    "YRI.DG\n",
    "MSL.DG\n",
    "GWD.DG\n",
    "ACB.DG\n",
    "ASW.DG\n",
    "CLM.DG\n",
    "MXL.DG\n",
    "PUR.DG\n",
    "PEL.DG\n",
    "TSI.DG\n",
    "IBS.DG\n",
    "GBR.DG\n",
    "CEU.DG\n",
    "FIN.DG\n",
    "PJL.DG\n",
    "GIH.DG\n",
    "ITU.DG\n",
    "STU.DG\n",
    "BEB.DG\n",
    "CDX.DG\n",
    "KHV.DG\n",
    "CHS.DG\n",
    "CHB.DG\n",
    "JPT.DG\n",
    "```"
   ]
  },
  {
   "cell_type": "markdown",
   "id": "5bb8a5f8-8f3a-4b49-b0d0-842acf4c3282",
   "metadata": {},
   "source": [
    "`ADMIXTURE` uses all of the data that is included in the input dataset. So, unlike last week, you cannot just change the population labels to “Ignore.” You’ll need to make a new version of your analysis dataset that does not include any other individuals that we don’t want to include in our analysis (but make sure not to filter out your mystery genome). \n",
    "\n",
    "You can do both things at once using the tool `convertf`, which is part of the `EIGENSTRAT` [8] package (https://github.com/DReichLab/AdmixTools/blob/master/convertf/README).  \n",
    "\n",
    "Like with `mergeit` and `smartpca`, you need to create a parameter (par) file to run convertf. Make a parameter file called `convertf.par`, which includes the following:"
   ]
  },
  {
   "cell_type": "markdown",
   "id": "89ea19ca-a9b8-4ed3-b5a7-2f6a6311fef3",
   "metadata": {},
   "source": [
    "```bash\n",
    "genotypename: {POINTER TO YOUR WORKING DATASET GENO FILE}\n",
    "snpname:      {POINTER TO YOUR WORKING DATASET SNP FILE}\n",
    "indivname:    {POINTER TO YOUR WORKING DATASET IND FILE}\n",
    "outputformat:   PED\n",
    "genooutfilename:   admixture_data.ped\n",
    "snpoutfilename:    admixture_data.pedsnp\n",
    "indoutfilename:    admixture_data.pedind\n",
    "poplistname: {POINTER TO FILE THAT CONTAINS A LIST OF ALL THE POPS YOU WANT TO RETAIN. ONE PER LINE}\n",
    "chrom: 1\n",
    "```"
   ]
  },
  {
   "cell_type": "markdown",
   "id": "6f086019-3563-4eff-b220-dfeea5894e61",
   "metadata": {},
   "source": [
    "To run `convertf`, submit the following command as a job using sbatch:"
   ]
  },
  {
   "cell_type": "markdown",
   "id": "4fec4146-63a0-476c-a08c-2b513bc88b96",
   "metadata": {},
   "source": [
    "```bash\n",
    "convertf -p convertf.par > convertf.out\n",
    "```"
   ]
  },
  {
   "cell_type": "markdown",
   "id": "fb12008a-009e-4c0d-b804-cfe6fcc49807",
   "metadata": {},
   "source": [
    "Monitor your job using the squeue command or by checking to see what output is written to `convertf.out`.\n",
    "\n",
    "Once `convertf` finishes running, you’ll need to run one more command to reformat the `.pedsnp` file that `convertf` produced into `.map` format:"
   ]
  },
  {
   "cell_type": "markdown",
   "id": "28fdb8a7-704a-4306-a47a-4c3df53067d7",
   "metadata": {},
   "source": [
    "```bash\n",
    "awk -F\" \" '{print $1\" \"$2\" \"$3\" \"$4}' admixture_data.pedsnp > admixture_data.map\n",
    "```"
   ]
  },
  {
   "cell_type": "markdown",
   "id": "ecdf02af-628e-43cd-9344-ab6e1ae7004a",
   "metadata": {},
   "source": [
    "*Note - Since all you are doing in Part 1 is reformatting your data, not doing any analyses, you don't need to describe this section in your methods section, except to describe which populations you've included in your analysis and what SNP set you are analyzing (including what chromosome you focused your analysis on)*"
   ]
  },
  {
   "cell_type": "markdown",
   "id": "613db37b-29b0-4241-9471-2de94c0928e2",
   "metadata": {},
   "source": [
    "### Part 2) Prune out SNPs that are in linkage disequilibrium (LD)\n",
    "\n",
    "For `ADMIXTURE` to run correctly, it should be run on a dataset that does not contain SNPs that are in linkage disequilibrium with one another (i.e. that are non-randomly associated with one another, which means that they tend to be inherited together). We can use the program `plink` to identify alleles that are in LD (first command) and then to create a new dataset that they are excluded from (second command), using the following commands:"
   ]
  },
  {
   "cell_type": "markdown",
   "id": "b0639e76-62b3-4d8f-a31d-a145a8cfbdbc",
   "metadata": {},
   "source": [
    "```bash\n",
    "plink --file admixture_data  --indep-pairwise 200 25 0.4\n",
    "```"
   ]
  },
  {
   "cell_type": "markdown",
   "id": "3d678aca-75b4-4ad7-83a1-e8202dfba9a0",
   "metadata": {},
   "source": [
    "```bash\n",
    "plink --file admixture_data --extract plink.prune.in --make-bed --out admixture_data_pruned\n",
    "```"
   ]
  },
  {
   "cell_type": "markdown",
   "id": "ebf3a128-b3fd-4f23-b38c-bccd9862c32b",
   "metadata": {},
   "source": [
    "### Part 3) Run ADMIXTURE \n",
    "\n",
    "Now that your data is ready, you can run `ADMIXTURE`. For this exercise, you’ll be setting k=8, which means that all of the individuals will be assigned some amount of ancestry from 8 theoretical ancestral populations (i.e. there will be 8 colors in your ADMIXTURE plot). \n",
    "\n",
    "Unfortunately, `ADMIXTURE` doesn't let you pick the output file name or location, so if you want to run multiple replicates (which we do), you should run them from different folders. So make a folder called `rep1` and move into it before you start running admixture. To do this you can run the following commands (make sure you are in your practical_5 directory before you run them):"
   ]
  },
  {
   "cell_type": "markdown",
   "id": "c8913682-f45c-49c0-ab0b-988f80adfd03",
   "metadata": {},
   "source": [
    "```bash\n",
    "mkdir rep1\n",
    "cd rep1\n",
    "```"
   ]
  },
  {
   "cell_type": "markdown",
   "id": "e01c8fe4-6776-4d9a-a87f-82ae213d623e",
   "metadata": {},
   "source": [
    "To run `ADMIXTURE` submit the following command as a job using sbatch from within your `rep1` folder:"
   ]
  },
  {
   "cell_type": "markdown",
   "id": "ef70c3e7-496c-46e5-a47e-0d9de0d474ea",
   "metadata": {},
   "source": [
    "```bash\n",
    "~/139860/tools/admixture/admixture -s time --cv ../admixture_data_pruned.bed 8 > runlog.k8.rep1.txt\n",
    "```"
   ]
  },
  {
   "cell_type": "markdown",
   "id": "ef9fd971-5569-4466-b7d7-293990a88e2b",
   "metadata": {},
   "source": [
    "### Part 4) Run another ADMIXTURE replicate\n",
    "\n",
    "Typically researchers run multiple replicates of each `ADMIXTURE` analysis in order to avoid generating results that converge to a local rather than the global maximum (i.e. based on the random starting point used by the algorithm, it may yield wonky results). For the sake of time, you will only run 2 replicates, but in many publications researchers will choose the best of 10 or 20 replicates. \n",
    "\n",
    "Run another replicate (`rep2`)  using the approach from Part 3, but make sure that you **don't overwrite any of the results from your first replicate** (e.g., by submitting the job from a new directory and renaming your run log).\n"
   ]
  },
  {
   "cell_type": "markdown",
   "id": "edf1dfba-9279-47c8-8b4b-883a08659e6f",
   "metadata": {},
   "source": [
    "### Part 5) Identify the best replicate \n",
    "\n",
    "To choose the best `ADMIXTURE` replicate, you’ll need to identify the replicate that is assigned the maximum (i.e. least negative) loglikelihood score. Look in the runlog files that you generated for each replicate to try to determine which replicate has the maximum loglikelihood score. This is the replicate you should use for plotting going forward.\n",
    "\n",
    "*Note - if your results look crazy when you plot them, you may have had the bad luck of running two replicates that converged at a local maximum rather than the global maximum. If you’ve ruled out all other possibilities, you may need to consider running another replicate.*\n"
   ]
  },
  {
   "cell_type": "markdown",
   "id": "8030b5c7-eaf2-4384-8572-92404540d7d9",
   "metadata": {},
   "source": [
    "### Part 6) Plot your results\n",
    "\n",
    "The results of your `ADMIXTURE` analysis will be stored in a file that ends with the suffix “.Q”. Each column in this file corresponds to one of the K ancestral components produced in your analysis (so in this case, there will be 8 columns). Each row in your file corresponds to a single individual in your analysis. Unfortunately, `ADMIXTURE` does not include the individual or population labels in this output file, so you’ll have to add this information by referring to the input files. The file called `admixture_data_pruned.fam` that you generated in part 2 will contain the individual IDs in the correct order, but to get the corresponding population labels you’ll need to refer to the original `.ind` file that you used in part 1 or to the AADR anno file that is linked to on canvas.\n",
    "\n",
    "There are lots of fancy scripts for plotting `ADMIXTURE` plots, for instance*:\n",
    "- Here’s a Jupyter Notebook-based plotting script (https://github.com/dportik/Pandas-for-Population-Structure-Barplots) \n",
    "- Here’s an R script (https://github.com/TCLamnidis/AdmixturePlotter) \n",
    "\n",
    "*Note: I have not tried either of these scripts, so this is not an endorsement of either of them*\n",
    "\n",
    "However, I believe that the **best way** to plot `ADMIXTURE` plots is using the “stacked barplot” chart in Excel (or a \"stacked column chart\" in Google Sheets). It’s simple to set up and easy to edit.\n",
    "\n",
    "You are welcome to choose whatever method you prefer for plotting your results, as long as you can do the following:\n",
    "- Display your results as a stacked bar plot, where each of the k=8 ancestral components are represented by a different color (and the sum of these components is equal to 100% for each individual). \n",
    "- Arrange the individuals by their population label and then into larger geographic groups (i.e., place all of the African populations next to one another), and include population labels in your plot (and ideally, add additional labels for the larger geographic groups).\n",
    "- Make the bar associated with your mystery individual wider than those associated with the 1000 Genomes populations so that it is easier to see.\n",
    "- **For an extra challenge:**\n",
    "    - Within each population group, order the individuals according to the amount of ancestry that they are assigned to one or more of the k=8 ancestral components so that the transition between individuals is as “smooth” as possible (see the example above).\n",
    "    - Add spaces between each population so they are clearly distinguishable\n"
   ]
  },
  {
   "cell_type": "markdown",
   "id": "befdd70b-f93a-4740-b61c-70e6859c76c3",
   "metadata": {},
   "source": [
    "## When you are finished\n",
    "\n",
    "### Be sure to include the following in your report: \n",
    "<b>Methods section</b>: <br>\n",
    "A description of how you ran your `ADMIXTURE` analysis. <br>\n",
    "*Remember, rather than describing the exact steps that you took to prepare your input datasets, focus your explaination on highlighting which populations were included in your analysis (i.e. how many populations and from what dataset did they come from). You should describe any steps that you took that fundamentally alter your dataset or impact how it will be analyzed (like LD pruning).*\n",
    "\n",
    "<b>Results section</b>: <br>\n",
    "Be sure to include the following in your results section:\n",
    "- Your ADMIXTURE plot, with an appropriate caption. \n",
    "- Specify which replicate you chose and explain why.\n",
    "\n",
    "<b>Conclusion section</b>: <br>\n",
    "Be sure to address the following, based on the results of your analyses: \n",
    "- Which ancestral component(s) serve as the predominant source of your mystery genome’s ancestry?\n",
    "- Which 1000 Genomes population does your mystery genome appear most similar to based on the ADMIXTURE results?\n",
    "\n",
    "### Additional Questions to answer at the end of your report: \n",
    "- Why is it necessary to perform LD pruning before running ADMIXTURE?\n",
    "- Why is it not advisable to only run ADMIXTURE once when performing this type of analysis?\n",
    "- For each of your ADMIXTURE replicates, how did you set the random seed? What would have happened if you set the random seed to be equal to 100 for both replicates and why would you want to avoid doing this? *Hint: check the ADMIXTURE user manual*\n",
    "- In this practical, we’ve run “unsupervised” ADMIXTURE. How does this differ from “supervised” ADMIXTURE? What would you need to change about the code used in Part 3 and 4 to instead run your analysis in supervised mode instead. *Hint: check the ADMIXTURE user manual*"
   ]
  },
  {
   "cell_type": "markdown",
   "id": "15f3c7b0-99b1-4dde-8fda-ab85b01e794f",
   "metadata": {},
   "source": [
    "### References\n",
    "\n",
    "1. Alexander, David H., John Novembre, and Kenneth Lange. \"Fast model-based estimation of ancestry in unrelated individuals.\" Genome research 19.9 (2009): 1655-1664.\n",
    "2. Chang, Christopher C., et al. \"Second-generation PLINK: rising to the challenge of larger and richer datasets.\" Gigascience 4.1 (2015): s13742-015.\n",
    "3. www.cog-genomics.org/plink/1.9/ \n",
    "4. The 1000 Genomes Project Consortium. A global reference for human genetic variation. Nature 526, 68–74 (2015). https://doi.org/10.1038/nature15393\n",
    "5. Sedig, Jakob, et al. High levels of consanguinity in a child from Paquimé, Chihuahua, Mexico. Antiquity. 2024;98(400):1023-1039. doi:10.15184/aqy.2024.94\n",
    "6. Mallick S, Reich D, 2023, \"The Allen Ancient DNA Resource (AADR): A curated compendium of ancient human genomes\", https://doi.org/10.7910/DVN/FFIDCW, Harvard Dataverse, V8\n",
    "7. Mallick S, Micco A, Mah M, Ringbauer H, Lazaridis I, Olalde I, Patterson N, Reich D (2024) The Allen Ancient DNA Resource (AADR) a curated compendium of ancient human genomes. Sci Data 11, 182.\n",
    "8. Patterson, Nick, Alkes L. Price, and David Reich. \"Population structure and eigenanalysis.\" PLoS genetics 2.12 (2006): e190.\n"
   ]
  }
 ],
 "metadata": {
  "kernelspec": {
   "display_name": "Python 3 (ipykernel)",
   "language": "python",
   "name": "python3"
  },
  "language_info": {
   "codemirror_mode": {
    "name": "ipython",
    "version": 3
   },
   "file_extension": ".py",
   "mimetype": "text/x-python",
   "name": "python",
   "nbconvert_exporter": "python",
   "pygments_lexer": "ipython3",
   "version": "3.11.9"
  }
 },
 "nbformat": 4,
 "nbformat_minor": 5
}
