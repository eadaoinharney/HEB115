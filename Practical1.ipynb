{
 "cells": [
  {
   "cell_type": "markdown",
   "id": "154aba5b-f87f-4ba1-94e4-024afabb8666",
   "metadata": {},
   "source": [
    "# Practical 1\n",
    "\n",
    "## Characterizing your mystery genome\n",
    "\n",
    "The purpose of today's practical is to characterize your mystery genome to learn more about it's age, preparation method and quality. \n",
    "\n",
    "You will use a combination of custom scripts and published tools, including `samtools` (https://www.htslib.org/doc/samtools.html)[1] and `PMDtools` (https://github.com/pontussk/PMDtools)[2], to analyze your mystery genome. "
   ]
  },
  {
   "cell_type": "markdown",
   "id": "5e35a9ee-dbeb-4667-ac00-e795a005e2e0",
   "metadata": {},
   "source": [
    "### Getting Started\n",
    "\n",
    "<b>If you haven't already done so, start an interactive session</b>\n",
    "\n",
    "- Sign in to https://ood.huit.harvard.edu/ \n",
    "- Navigate to `Interactive Apps → Jupyter Lab`\n",
    "- Launch a Jupyter Lab session with the following parameters:\n",
    "    - Number of hours: 2\n",
    "    - Number of CPUs: 2\n",
    "- When the session is ready, click “Connect to Jupyter”\n",
    "\n",
    "<b>Create a working directory (called \"practical_1\" from which you will run commands and store any files that you generate</b>"
   ]
  },
  {
   "cell_type": "markdown",
   "id": "27278d5a-e9bb-4023-9d1f-b5e18e4fda06",
   "metadata": {},
   "source": [
    "```bash\n",
    "mkdir practical_1\n",
    "cd practical_1\n",
    "```"
   ]
  },
  {
   "cell_type": "markdown",
   "id": "7d759cfe-7a73-4a73-83a4-1767d038e478",
   "metadata": {},
   "source": [
    "<b>Copy these practical instructions to your working directory and open them as a Jupyter Notebook</b>"
   ]
  },
  {
   "cell_type": "markdown",
   "id": "6be1f685-e2e5-4c78-9858-a4a15d1639d1",
   "metadata": {},
   "source": [
    "```bash\n",
    "cp ~/139860/practical_instructions/Practical1.ipynb ./\n",
    "```"
   ]
  },
  {
   "cell_type": "markdown",
   "id": "33c4ddf7-25a6-43b0-818b-5ac3694f350d",
   "metadata": {},
   "source": [
    "Then navigate to the practical_1 directory on the sidebar and click on Practical1.ipynb to open it as a Jupyter Notebook"
   ]
  },
  {
   "cell_type": "markdown",
   "id": "7b089acc-0a90-4273-bb0e-e177eefd180d",
   "metadata": {},
   "source": [
    "### Part 1) Calculate the read length distribution for your mystery genome\n",
    "\n",
    "First we will use `samtools` and some simple `awk` and `bash` scripting to quantify the distribution of DNA segment lengths (or read lengths) in your mystery genome. \n",
    "\n",
    "In order to save time, we will only consider the first 1 million reads in your bam file. \n",
    "\n",
    "The following command will extract the first 1 million reads from your bam file, calculate  the length of each read, and then create a file called `read_length_distribution.txt` that reports the number of sequences of each length in your bam file. \n",
    "\n",
    "<i><b>Tip</b>: Make sure that you provide the full path to your mystery genome's bam file (i.e., include information about the folder where it is located, not just the name of your bam)</i>"
   ]
  },
  {
   "cell_type": "markdown",
   "id": "2a65cd03-9ac7-42a0-a236-bb1922569cb5",
   "metadata": {},
   "source": [
    "```bash\n",
    "samtools view {POINTER TO YOUR MYSTERY BAM FILE} | head -n 1000000 | awk '{print length($10)}' | sort | uniq -c > read_length_distribution.txt\n",
    "```"
   ]
  },
  {
   "cell_type": "markdown",
   "id": "df178f5a-7356-4405-b098-8f6f6778bdc8",
   "metadata": {},
   "source": [
    "Next, the following command will format your results into an easy to read table called `read_length_table.txt` that has appropriate headers"
   ]
  },
  {
   "cell_type": "markdown",
   "id": "54fc8943-611d-4d1c-bbb3-96b187115963",
   "metadata": {},
   "source": [
    "```bash\n",
    "awk 'BEGIN {print \"Read_Length\\tCount\"} {print $2 \"\\t\" $1}' read_length_distribution.txt | sort -n -k 1 > read_length_table.txt\n",
    "```"
   ]
  },
  {
   "cell_type": "markdown",
   "id": "fdbb8729-a68e-45ed-ada1-b1306866c3b9",
   "metadata": {},
   "source": [
    "Take a peek at the `read_length_table.txt` you just produced and see if it gives you an idea about the age of your mystery genome. Does the distribution seem more consistent with that of an ancient or present-day individual?\n",
    "\n",
    "You can proceed to part 2 for now, but in your final report, use the information in `read_length_table.txt` to create a histogram that displays your read length distribution similar to the one below:"
   ]
  },
  {
   "cell_type": "code",
   "execution_count": 43,
   "id": "db6d2878-d9f4-4c43-be4a-955f2217a5cd",
   "metadata": {
    "jupyter": {
     "source_hidden": true
    }
   },
   "outputs": [
    {
     "data": {
      "text/html": [
       "\n",
       "        <iframe\n",
       "            width=\"600\"\n",
       "            height=\"450\"\n",
       "            src=\"practical_1_read_length_histogram.pdf\"\n",
       "            frameborder=\"0\"\n",
       "            allowfullscreen\n",
       "            \n",
       "        ></iframe>\n",
       "        "
      ],
      "text/plain": [
       "<IPython.lib.display.IFrame at 0x7fd9657e8fd0>"
      ]
     },
     "execution_count": 43,
     "metadata": {},
     "output_type": "execute_result"
    }
   ],
   "source": [
    "\n",
    "\n",
    "from IPython.display import IFrame\n",
    "IFrame(\"practical_1_read_length_histogram.pdf\", width=600, height=450)"
   ]
  },
  {
   "cell_type": "markdown",
   "id": "f7e5d921-9537-4765-adb3-67a3729d1892",
   "metadata": {},
   "source": [
    "<i><b>Tip</b>: You can use any tool of your choosing to create your plot, including python (in which case you can make it right here in this Jupyter Notebook), R, or even Excel or Google sheets. If you aren't sure where to start, try asking ChatGPT! </i>"
   ]
  },
  {
   "cell_type": "markdown",
   "id": "87c8cdc7-d7fc-4383-851e-e27992aefe95",
   "metadata": {},
   "source": [
    "### Part 2) Check to see if your mystery genome has signatures of ancient DNA damage (C-to-T misincorporations)\n",
    "\n",
    "To assess ancient DNA damage patterns, we will use `PMDtools`, a handy python-based package for analyzing ancient DNA data. To save time, we will only consider the first 1 million reads in your bam file. \n",
    "\n",
    "To run PMDtools use the following command:"
   ]
  },
  {
   "cell_type": "markdown",
   "id": "46432be2-0224-49b1-8eea-e0a4468e63db",
   "metadata": {},
   "source": [
    "```bash\n",
    "samtools view {POINTER TO YOUR MYSTERY BAM FILE} | head -1000000 | python ~/139860/tools/PMDtools/pmdtools.0.60.py --deamination > damage_pattern_table.txt\n",
    "```"
   ]
  },
  {
   "cell_type": "markdown",
   "id": "59c6fd3a-dadd-4e4d-aea1-03aa0ed6f33e",
   "metadata": {},
   "source": [
    "- <i><b>Note</b>: Some of you may see an error that contains the following message:<br><br>\n",
    "  `cigar found:',cigar,'PMDtools only supports cigar operations M, I, S and D, the alignment has been excluded`<br><br>\n",
    "  This is because some of the reads in your bam file have undergone \"hard clipping\", in which the CIGAR string has been updated to indicate that those bases should be ignored from analyses. `PMDtools` isn't able to handle hard-clipped bases, so it fails. If you see this error, you can avoid this issue by filtering out reads that have been hard clipped (i.e. ones that contain a \"H\" in their CIGAR strings, which are stored in the 6th column of the bam file). To do this, try rerunning the above command, but adding the following extra `awk` step between the `samtools` and `head` commands: `awk '$6 !~ /H/'` Make sure to add an extra pipe symbol so that you are clearly differentiating between each step. </i> \n",
    "\n",
    "When it is finished running, `PMDtools` should have created a file called `damage_pattern_table.txt` which contains information about the rate of misincoroporations at the first and last 30 bases in each read.\n",
    "- <b>Note</b>: For the first 30 bases, it reports the rate of misincorporations at positions where it was expecting to see a \"C\", while for the last 30 bases it reports the reate of misincorporations at positions where it was expecting to see a \"G\"\n",
    "\n",
    "This table isn't formatted in a very easy to read way, so let's use the following custom script, which uses a combination of `awk` commands to reformat it:"
   ]
  },
  {
   "cell_type": "markdown",
   "id": "8d0a4a26-18e7-400a-ac74-72c235fe2dc8",
   "metadata": {},
   "source": [
    "```bash\n",
    "bash ~/139860/tools/custom_scripts/reformat_pmdtools_output.sh damage_pattern_table.txt reformatted_damage_pattern_table.txt\n",
    "```"
   ]
  },
  {
   "cell_type": "markdown",
   "id": "2d48c74d-6204-4b25-b9f6-3f12b095e994",
   "metadata": {},
   "source": [
    "You just created a more nicely formatted table called `reformatted_damage_pattern_table.txt` which contains information about the rate of misincorporations in the first and last 30 bases in each read. Take a look at this table, paying special attention to the C->T and G->A misincorporations.\n",
    "\n",
    "Using the information you gathered from this table and from the previous read length distribution analysis, what conclusions can you draw about your mystery genome? \n",
    "- Do you think your mystery genome is from an ancient or present-day individual?\n",
    "- If they are ancient, do you think the DNA sample underwent any UDG treatment during library preparation? \n",
    "\n",
    "Once you have answered the above question, you can proceed to part 3, but for your final report, use the information in `reformatted_damage_pattern_table.txt` to create a \"smiley\" plot that displays the misincorporation rates in your mystery genome, similar to the one below, using a plotting tool of your choosing:\n",
    "\n",
    "<i><b>Note:</b> Make sure that you don't zoom too far in on the Y-axis. You should see the pattern best with a maximum Y-axis value of 20-30%.</i>"
   ]
  },
  {
   "cell_type": "code",
   "execution_count": 44,
   "id": "ec035979-0ac1-4c10-9151-b9bef9a08cd3",
   "metadata": {
    "jupyter": {
     "source_hidden": true
    }
   },
   "outputs": [
    {
     "data": {
      "text/html": [
       "\n",
       "        <iframe\n",
       "            width=\"800\"\n",
       "            height=\"350\"\n",
       "            src=\"practical_1_misincorporation_plot.pdf\"\n",
       "            frameborder=\"0\"\n",
       "            allowfullscreen\n",
       "            \n",
       "        ></iframe>\n",
       "        "
      ],
      "text/plain": [
       "<IPython.lib.display.IFrame at 0x7fd9658a2810>"
      ]
     },
     "execution_count": 44,
     "metadata": {},
     "output_type": "execute_result"
    }
   ],
   "source": [
    "\n",
    "IFrame(\"practical_1_misincorporation_plot.pdf\", width=800, height=350)"
   ]
  },
  {
   "cell_type": "markdown",
   "id": "febba723-6db2-4bef-9aba-9498fb3a3d8b",
   "metadata": {},
   "source": [
    "### Part 3) Calculate the coverage of your mystery genome on different SNP sets\n",
    "\n",
    "Finally, let's calculate the coverage of your mystery genome on three different SNP sets in order to try to determine whether your mystery genome underwent targeted enrichment capture or genome-wide (\"shotgun\") sequencing. \n",
    "\n",
    "If your mystery genome underwent targeted enrichment capture, its coverage on the positions that were enriched for will be signficantly higher than the genome-wide coverage. \n",
    "\n",
    "So let's check your mystery genome's coverage on the following three SNP sets:\n",
    "- <b>Whole genome</b>: For samples that underwent 'shotgun' sequencing, instead of targeted enrichment capture, we report the genome-wide coverage. That's the coverage across all positions on the human genome. \n",
    "- <b>1240k SNP set</b>: The '1240k' array is a set of approximately 1.24 million SNPs that are included on a targeted enrichment capture array that is widely used by ancient DNA researchers. \n",
    "- <b>390k SNP set</b>: The '390k' array is a list of approximately 390,000 SNPs that were included on a targeted enrichment capture array that pre-dated the 1240k array. A small number of ancient genomes underwent targeted enrichment capture on this SNP set.\n",
    "\n",
    "You'll use the function `samtools depth` to cacluate the coverage of your mystery genome on these three SNP sets. \n",
    "- For the 1240k and 390k SNP sets, we'll specify the SNP sets to focus on by providing a SNP list with the `-b` parameter.\n",
    "- In all cases, we'll use the `-a` parameter to report counts at all of the SNPs of interest, not just those that have at least one overlapping read.\n",
    "\n",
    "Use the following three commands to calculate coverage at each SNP set. These can take a while to run, so we'll submit each of them as a separate job to the compute cluster:\n",
    "\n",
    "<b>Compute coverage on the whole genome:</b>"
   ]
  },
  {
   "cell_type": "markdown",
   "id": "cd87fe02-005c-433e-b23c-3100a5e9c69d",
   "metadata": {},
   "source": [
    "```bash\n",
    "sbatch --wrap=\"samtools depth --min-MQ 10 --min-BQ 20 -a {POINTER TO YOUR MYSTERY BAM FILE} | awk '{sum+=\\$3} END { print sum/NR}' > coverage_genome_wide.txt\" \n",
    "```"
   ]
  },
  {
   "cell_type": "markdown",
   "id": "60a0bea9-4146-4023-8124-c3848ca08583",
   "metadata": {},
   "source": [
    "<b>Compute coverage on the 1240k SNP set:</b>"
   ]
  },
  {
   "cell_type": "markdown",
   "id": "1052d4bb-0e46-4e64-aba3-b7118bf38cdd",
   "metadata": {},
   "source": [
    "```bash\n",
    "sbatch --wrap=\"samtools depth --min-MQ 10 --min-BQ 20 -b ~/139860/data/reference_data/1240k_positions.bed -a {POINTER TO YOUR MYSTERY BAM FILE} | awk '{sum+=\\$3} END { print sum/NR}' > coverage_1240k.txt\"\n",
    "```"
   ]
  },
  {
   "cell_type": "markdown",
   "id": "813755e9-1550-4fab-93f9-5f7ef2727789",
   "metadata": {},
   "source": [
    "<b>Compute coverage on the 390k SNP set:</b>"
   ]
  },
  {
   "cell_type": "markdown",
   "id": "de5ab2cf-f6f1-4e92-9f39-b0eea300c550",
   "metadata": {},
   "source": [
    "```bash\n",
    "sbatch --wrap=\"samtools depth --min-MQ 10 --min-BQ 20 -b ~/139860/data/reference_data/390k_positions.bed -a {POINTER TO YOUR MYSTERY BAM FILE} | awk '{sum+=\\$3} END { print sum/NR}' > coverage_390k.txt\" \n",
    "```"
   ]
  },
  {
   "cell_type": "markdown",
   "id": "3e59da72-ce24-4a8c-8edd-ce7657826c73",
   "metadata": {},
   "source": [
    "### Part 4) Trim the terminal bases in your bam file based on its age and UDG treatment\n",
    "\n",
    "Now that you know more about your mystery genome, you can perform some modifications to your bam to make sure that your future analyses aren't impacted by C-to-T (or G-to-A) misincorporations. For ancient genomes, it is standard practical to ignore bases that occur at the ends of each read, as they are most susceptible to ancient DNA damage. How many bases you ignore depends on the UDG treatment:\n",
    "\n",
    "- No UDG treatment: 10 bases\n",
    "- Partial UDG treatment: 2 bases\n",
    "- Full UDG treatment: 0 bases\n",
    "\n",
    "For present-day genomes, you don't need to ignore any bases, since we don't expect to see any ancient DNA damage. \n",
    "\n",
    "Next, you will use the `softclip` function of the `ADNA-Tools` package [3](version 1.10.0; https://github.com/DReichLab/ADNA-Tools) to modify your bam so that the number of terminal bases you specify are ignored from future analyses. It works by lowering the quality score assigned to those bases. That way, you can still check what the full read looks like if you want to, but those bases won't be used in analyses where you specify a minimum quality score above that threshold. This is called softclipping. \n",
    "\n",
    "You'll save the file in your home directory. That way you can easily reference it for future practicals. \n",
    "\n",
    "\n",
    "<b>Option 1: Softclipping </b><br>\n",
    "If your bam comes from an ancient individual and was prepared using no or a partial UDG treatment, you can use the following code to softclip your bam. Be sure to specify the correct number of bases to softclip based on how you think your genome was prepared."
   ]
  },
  {
   "cell_type": "markdown",
   "id": "e44f0b66-1f6f-4728-9dee-c991df5ca1b6",
   "metadata": {},
   "source": [
    "```bash \n",
    "sbatch --wrap=\"java -jar ~/139860/tools/adnascreen-1.10.0-SNAPSHOT.jar softclip -b \\\n",
    "-n {NUMBER OF POSITIONS TO SOFTCLIP} \\\n",
    "-i {POINTER TO YOUR MYSTERY BAM FILE} \\\n",
    "-o ~/{YOUR MYSTERY GENOME ALIAS}_softclipped.bam\"\n",
    "```"
   ]
  },
  {
   "cell_type": "markdown",
   "id": "98a95d2b-0e4e-4ad8-b2b7-a37f7fb67de1",
   "metadata": {},
   "source": [
    "<i><b>Note:</b> The code will take some time to run, so you can submit it as a job that will finish before next week. Be sure to check back and make sure that your job finished without issues</i>"
   ]
  },
  {
   "cell_type": "markdown",
   "id": "6b0bc8df-b036-49c5-87f1-55c20f5f2bcf",
   "metadata": {},
   "source": [
    "<b>Option 2: No softclipping</b><br>\n",
    "If your bam was prepared using a Full UDG treatment or comes from a present-day individual, you don't need to softclip it. But let's still create a symbolic link pointing to your file and give it the same name so that you can use it for future analyses. You can do that using the following code:"
   ]
  },
  {
   "cell_type": "markdown",
   "id": "fed8973f-23ca-409f-8962-ebe2e82817c0",
   "metadata": {},
   "source": [
    "```bash\n",
    "ln -s {POINTER TO YOUR MYSTERY BAM FILE} ~/{YOUR MYSTERY GENOME ALIAS}_softclipped.bam\n",
    "```"
   ]
  },
  {
   "cell_type": "markdown",
   "id": "37fd24a8-c299-4caa-b010-f1c8a0edf80b",
   "metadata": {
    "jp-MarkdownHeadingCollapsed": true
   },
   "source": [
    "## When you are finished\n",
    "\n",
    "### Be sure to include the following in your report: \n",
    "<b>Methods section</b>: <br>\n",
    "A description of each of the analyses that you performed. Make sure to include a description of the data processing that you did in part 4 even though you won't use your softclipped bam file until future practicals\n",
    "\n",
    "<b>Results section</b>: <br>\n",
    "Make sure that your results section includes the following results:\n",
    "- Figures showing the “smiley” plot from part 1 and the histogram from part 2.\n",
    "- Report (in words) the coverage you calculated in part 3. \n",
    "\n",
    "<b>Conclusion section</b>: <br>\n",
    "Be sure to address the following questions. Based on the results of your analyses: \n",
    "- Do you think your mystery genome was sequenced from an ancient or present-day individual?\n",
    "- Do you think your mystery genome underwent targeted enrichment capture or shotgun sequencing? If it underwent capture, what array do you think was used?\n",
    "- If the individual was ancient, what type of UDG treatment do you think was used during processing (minus, plus or half)? \n",
    "\n",
    "### Additional Questions to answer at the end of your report: \n",
    "1) In part 1, what is the purpose of the awk statement `awk '{print length($10)}'`? \n",
    "    - <i><b>Tip:</b> Try using the head command to view the input that the samtools view command is passing to this `awk` statement. <i>\n",
    "2) In part 2, why does `PMDtools` output include more than just the rate of C-to-T misincorporations as part of this analysis? What other misincorporation rate may be impacted by ancient DNA damage?\n",
    "3) In part 3, what do the parameters `--min-MQ` and `--min-BQ` specify in the `samtools depth` function? \n",
    "    - <i><b>Tip:</b> Check out the `samtools depth` documentation:</i> https://www.htslib.org/doc/samtools-depth.html\n",
    "5) In part 4, why might we want to ignore SNPs that fall on the terminal ends of the DNA sequences for ancient DNA data? Why does the number of reads that you ignore vary depending on the UDG treatment used?\n"
   ]
  },
  {
   "cell_type": "markdown",
   "id": "d0bb7e33-144a-48c8-8a8a-ad702b8f6d67",
   "metadata": {},
   "source": [
    "## References\n",
    "\n",
    "1) Danecek, P, et al. (2021) Twelve years of SAMtools and BCFtools. Gigascience 10.2 :giab008.\n",
    "2) P Skoglund, BH Northoff, MV Shunkov, A Derevianko, S Pääbo, J Krause, M Jakobsson (2014): Separating ancient DNA from modern contamination in a Siberian Neandertal, Proceedings of the National Academy of Sciences USA\n",
    "3) https://github.com/DReichLab/ADNA-Tools\n",
    "\n"
   ]
  }
 ],
 "metadata": {
  "kernelspec": {
   "display_name": "Python 3 (ipykernel)",
   "language": "python",
   "name": "python3"
  },
  "language_info": {
   "codemirror_mode": {
    "name": "ipython",
    "version": 3
   },
   "file_extension": ".py",
   "mimetype": "text/x-python",
   "name": "python",
   "nbconvert_exporter": "python",
   "pygments_lexer": "ipython3",
   "version": "3.11.9"
  }
 },
 "nbformat": 4,
 "nbformat_minor": 5
}
