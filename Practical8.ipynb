{
 "cells": [
  {
   "cell_type": "markdown",
   "id": "154aba5b-f87f-4ba1-94e4-024afabb8666",
   "metadata": {},
   "source": [
    "# Practical 8\n",
    "\n",
    "## Calculating a Polygenic Risk Score for Height\n",
    "\n",
    "This week, you will calculate a polygenic risk score (PRS) for height for your mystery genome. This PRS will provide insight into the impact that genetics may have had on your mystery individual’s height (i.e. does their DNA suggest they would be taller or shorter than average, if the only factor impacting height was genetics). \n",
    "\n",
    "You will consider a set of 5,580 SNPs that are known to have a genetic impact on height. This list was created based on genome wide association study (GWAS) summary statistics that were computed as part of Pan-UK BioBank Project [1]. The Pan-UK BioBank dataset was further curated by restricting to sites included in the 1.2 million SNP capture array used to prepare your mystery genome, and then clumping using PLINK (v1.90) with parameters --clump-p1=1e-5 and --clump-r2=0.05 [2,3] to group SNPs that are in linkage disequlibrium (LD). SNPs overlapping positions in the Major Histocompatibility Complex (MHC) region of the genome were also excluded due to the extreme variation that occurs in this region of the genome. \n"
   ]
  },
  {
   "cell_type": "markdown",
   "id": "5e35a9ee-dbeb-4667-ac00-e795a005e2e0",
   "metadata": {},
   "source": [
    "### Getting Started\n",
    "\n",
    "<b>If you haven't already done so, start an interactive session</b>\n",
    "\n",
    "- Sign in to https://ood.huit.harvard.edu/ \n",
    "- Navigate to `Interactive Apps → Jupyter Lab`\n",
    "- Launch a Jupyter Lab session with the following parameters:\n",
    "    - Number of hours: 2\n",
    "    - Number of CPUs: 2\n",
    "- When the session is ready, click “Connect to Jupyter”\n",
    "\n",
    "<b>Create a working directory (called \"practical_8\" from which you will run commands and store any files that you generate</b>"
   ]
  },
  {
   "cell_type": "markdown",
   "id": "6d43b098-bbb4-4488-b43a-bbc9e0063094",
   "metadata": {},
   "source": [
    "```bash\n",
    "mkdir practical_8\n",
    "cd practical_8\n",
    "```"
   ]
  },
  {
   "cell_type": "markdown",
   "id": "7d759cfe-7a73-4a73-83a4-1767d038e478",
   "metadata": {},
   "source": [
    "<b>Copy these practical instructions to your working directory and open them as a Jupyter Notebook</b>"
   ]
  },
  {
   "cell_type": "markdown",
   "id": "2a4d4a92-77a0-44c4-8440-73d7dde35ed8",
   "metadata": {},
   "source": [
    "```bash\n",
    "cp ~/139860/practical_instructions/Practical8.ipynb ./\n",
    "```"
   ]
  },
  {
   "cell_type": "markdown",
   "id": "33c4ddf7-25a6-43b0-818b-5ac3694f350d",
   "metadata": {},
   "source": [
    "Then navigate to the practical_8 directory on the sidebar and click on Practical8.ipynb to open it as a Jupyter Notebook"
   ]
  },
  {
   "cell_type": "markdown",
   "id": "48c5d717-cc30-4d77-80b6-6b26322df769",
   "metadata": {},
   "source": [
    "### Part 1)  Prepare a positions file \n",
    "\n",
    "In today’s analysis, you will be considering a set of 5,580 SNPs that are described in the following metadata file: \n",
    "\n",
    "`~/139860/data/reference_data/height_associated_snps_metadata.txt`\n",
    "\n",
    "Like last week, we will be using bcftools mpileup [4] to examine the DNA sequences that overlap each position of interest. Create a position list file for the 5,580 SNPs of interest and save it in your `practical_8` working directory. \n",
    "\n",
    "\n",
    "### Part 2) Calculate genotype likelihoods at each position\n",
    "\n",
    "Use bcftools mpileup [4] to compute genotype likelihoods at each position of interest, again filtering out sequences with --min-MQ and --min-BQ less than 30, and using the hg19 reference sequence (`~/139860/data/reference_genomes/human_g1k_v37.fasta`).\n",
    "\n",
    "You can do this using the same approach as last week (although you may want to submit it as a job to sbatch if you didn'd do that last week). Update the code from last week to run on the positions list that you created this week, then run bcftools mpileup and save the output as a vcf file. \n",
    "\n",
    "### Part 3) Use the genotype likelihood calls to calculate genotype dosage\n",
    "\n",
    "Using the genotype likelihood calls generated for each position of interest, you will need to calculate the genotype dosage. The genotype dosage represents the predicted number of non-reference alleles that your individual has at a particular position, given the data available. It is calculated as follows: \n",
    "\n",
    "**Dosage = Pr(Het|Data) + 2*Pr(Alt|Data)**\n",
    "\n",
    "Tip - I wrote a script (`~/139860/tools/calc_geno_dosage.sh`) to help you convert your Phred-scaled genotype likelihoods into normalized genotype likelihoods (which sum to 1), and then to calculate genotype dosages and report the results in a csv file. To use it you can run the following:\n"
   ]
  },
  {
   "cell_type": "markdown",
   "id": "447ae3c2-5a53-450e-a562-56bf1f779e07",
   "metadata": {},
   "source": [
    "```bash\n",
    "bash ~/139860/tools/calc_geno_dosage.sh {POINTER TO INPUT VCF FILE} {POINTER TO OUTPUT FILE}\n",
    "```"
   ]
  },
  {
   "cell_type": "markdown",
   "id": "b820cf65-955e-4d8b-89a5-a6d87fac28ee",
   "metadata": {},
   "source": [
    "### Part 4) Calculate your mystery individual’s PRS \n",
    "\n",
    "Now it is time to calculate a PRS for your mystery genome using the following formula: \n",
    "\n",
    "$$\n",
    "PRS_{Height} = \\sum_{i=1}^{m}d_{i}\\beta_{i}\n",
    "$$\n",
    "\n",
    "In this equation, m is the number of SNPs of interest that had a coverage of at least one (i.e. at least one overlapping read), di is the dosage at the ith SNP, and βi is the GWAS-estimated effect size at the ith SNP, which is available in the `height_associated_snps_metadata.txt` file. \n",
    "\n",
    "Use the above equation and the dosage information you generated in part 3 to compute a PRS for height for your mystery genome.\n",
    "\n",
    "*Note* - This equation ignores sites for which there is missing data. \n"
   ]
  },
  {
   "cell_type": "markdown",
   "id": "c4dae9a8-11d2-470d-940b-2244946d39ef",
   "metadata": {},
   "source": [
    "### Part 5) Prepare an annotated histogram comparing your mystery genome’s score to a 1000 genomes population of your choosing\n",
    "\n",
    "Finally, you will create an annotated histogram that shows how your mystery individual’s PRS for height compares to other individuals with (somewhat) similar ancestry. \n",
    "\n",
    "The following file contains PRSs for 473 individuals from five populations from the 1000 genomes project dataset. \n",
    "`~/139860/data/reference_data/1kg_scores.csv`\n",
    "\n",
    "Select the 1000 genomes population that you think your mystery genome has the most similar ancestry to and plot the distribution of PRSs assigned to each individual in that population in a histogram. Then add a vertical line representing your mystery genome’s computed PRS to show how they compare."
   ]
  },
  {
   "cell_type": "markdown",
   "id": "befdd70b-f93a-4740-b61c-70e6859c76c3",
   "metadata": {
    "jp-MarkdownHeadingCollapsed": true
   },
   "source": [
    "## When you are finished\n",
    "\n",
    "### Be sure to include the following in your report: \n",
    "<b>Methods section</b>: <br>\n",
    "Be sure to describe each of the methods that you used to calculate genotype likelihoods and dosage at each position of interest and how you used that information to calculate your mystery individual's PRS. Be sure provide an appropriate reference indicating where the list of SNPs of interest and their associated effect sizes came from (i.e. the Pan-UKB dataset [1]) and mention how many SNPs were included in this list.\n",
    "\n",
    "<b>Results section</b>: <br>\n",
    "Be sure to include the following in your results section:\n",
    "- The polygenic risk score that you computed for your mystery genome.\n",
    "- A histogram demonstrating how your mystery genome’s PRS compares to other individuals from the 1000 genomes population with the most similar ancestry.\n",
    "\n",
    "<b>Conclusion section</b>: <br>\n",
    "Based on the results of your analyses:\n",
    "- Briefly interpret what your mystery genome’s assigned PRS tells you about their height. Do you expect they would be taller than average, shorter than average, or about average based on this PRS if genetics were the only factor controlling height? Be sure to explain how confident you are in this interpretation (and why). \n",
    "\n",
    "\n",
    "### Additional Questions to answer at the end of your report: \n",
    "1. You may notice that the distribution of PRSs observed among the individuals in the 1000 genomes population that you plotted does not center on zero. Provide a possible explanation for why this might be the case. \n",
    "2. In this analysis we used the genotype likelihood scores computed by bcftools mpileup to calculate genotype dosage (i.e. the number of alternative alleles at each position).\n",
    "    - Why might this not be an ideal approach for low coverage, ancient DNA data.\n",
    "    - Describe two alternative approaches you could use to calculate dosage. For each, explain whether that approach would be expected to be more or less accurate (or the same) as the approach we took.  \n",
    "3. Take a look at the script that I provided for calculating genotype dosage (`calc_geno_dosage.sh`). In the section labeled “Calculate dosage,” I used one grep statement followed by five awk statements to calculate dosage and save the results in a temporary file called temp2. Briefly describe what each of the grep and awk statements are doing in this section of the script. (Your answer should be in the form of a numbered list, when you describe each part of the command separately.)\n"
   ]
  },
  {
   "cell_type": "markdown",
   "id": "15f3c7b0-99b1-4dde-8fda-ab85b01e794f",
   "metadata": {},
   "source": [
    "## References\n",
    "1. Pan-UKB team. https://pan.ukbb.broadinstitute.org. 2020.\n",
    "2. Chang, Christopher C., et al. \"Second-generation PLINK: rising to the challenge of larger and richer datasets.\" Gigascience 4.1 (2015): s13742-015.\n",
    "3. www.cog-genomics.org/plink/1.9/ \n",
    "4. Danecek, Petr, et al. \"Twelve years of SAMtools and BCFtools.\" Gigascience 10.2 (2021): giab008. https://doi.org/10.1093/gigascience/giab008 \n"
   ]
  }
 ],
 "metadata": {
  "kernelspec": {
   "display_name": "Python 3 (ipykernel)",
   "language": "python",
   "name": "python3"
  },
  "language_info": {
   "codemirror_mode": {
    "name": "ipython",
    "version": 3
   },
   "file_extension": ".py",
   "mimetype": "text/x-python",
   "name": "python",
   "nbconvert_exporter": "python",
   "pygments_lexer": "ipython3",
   "version": "3.11.9"
  }
 },
 "nbformat": 4,
 "nbformat_minor": 5
}
