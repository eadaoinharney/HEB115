{
 "cells": [
  {
   "cell_type": "markdown",
   "id": "154aba5b-f87f-4ba1-94e4-024afabb8666",
   "metadata": {},
   "source": [
    "## Practical 3\n",
    "\n",
    "## Estimating Chromosomal Sex\n",
    "\n",
    "In this practical, you will estimate the chromosomal sex of your mystery genome based on the ratio of reads aligning to the Y and X chromosomes, using the approach defined in Skoglund et al, 2013 [1]. \n",
    "\n",
    "It will be up to you to determine exactly how to carry out this analysis, but it can be achieved using a simple functions from `samtools` [2]."
   ]
  },
  {
   "cell_type": "markdown",
   "id": "5e35a9ee-dbeb-4667-ac00-e795a005e2e0",
   "metadata": {},
   "source": [
    "### Getting Started\n",
    "\n",
    "<b>If you haven't already done so, start an interactive session</b>\n",
    "\n",
    "- Sign in to https://ood.huit.harvard.edu/ \n",
    "- Navigate to `Interactive Apps → Jupyter Lab - 115`\n",
    "- Launch a Jupyter Lab session with the following parameters:\n",
    "    - Number of hours: 2\n",
    "    - Number of CPUs: 2\n",
    "- When the session is ready, click “Connect to Jupyter”\n",
    "\n",
    "<b>Create a working directory (called \"practical_3\" from which you will run commands and store any files that you generate</b>"
   ]
  },
  {
   "cell_type": "raw",
   "id": "c9d2cac7-1eae-4cf4-89ff-961a6f44da14",
   "metadata": {},
   "source": [
    "mkdir practical_3\n",
    "cd practical_3"
   ]
  },
  {
   "cell_type": "markdown",
   "id": "7d759cfe-7a73-4a73-83a4-1767d038e478",
   "metadata": {},
   "source": [
    "<b>Copy these practical instructions to your working directory and open them as a Jupyter Notebook</b>"
   ]
  },
  {
   "cell_type": "raw",
   "id": "9168d7a9-c3e0-4af9-9e14-d68ad133512a",
   "metadata": {},
   "source": [
    "cp ~/153784/practical_instructions/Practical3.ipynb ./"
   ]
  },
  {
   "cell_type": "markdown",
   "id": "33c4ddf7-25a6-43b0-818b-5ac3694f350d",
   "metadata": {},
   "source": [
    "Then navigate to the practical_3 directory on the sidebar and click on Practical3.ipynb to open it as a Jupyter Notebook"
   ]
  },
  {
   "cell_type": "markdown",
   "id": "7b089acc-0a90-4273-bb0e-e177eefd180d",
   "metadata": {},
   "source": [
    "### Part 1) Estimating chromosomal sex\n",
    "\n",
    "In order to estimate your mystery genome's chromosomal sex using the approach from Skoglund et al 2013 [1], you will need to determine the number of reads that align to the X and Y chromosomes. There are a variety of ways to do this and it is up to you to identify an approach that works for you. Regardless of the approach you choose, you should be sure to filter out any reads that have a mapping quality below 30.\n",
    "\n",
    "<i>Hint</i> - There are several functions in samtools that will get you the information that you need. If you aren’t sure where to start, try checking the documentation: https://www.htslib.org/doc/samtools.html \n",
    "\n",
    "### <i>* Optional *</i> - Part 2) - Estimate chromosomal sex using the approach from Anastasiadou et al 2024 [3]\n",
    "\n",
    "If you would like an extra challenge, you can try to estimate chromosomal sex using the approach from Anastasiadou et al 2024 [3]. Check out the methods section of the paper to see how they carried out their analysis. \n",
    "\n",
    "<i>Keep in mind</i> - Anastasiadou et al 2024 tends to over-estimate the frequency of individuals with XXY chromosomal arrangements, so be a bit skeptical if you get this result"
   ]
  },
  {
   "cell_type": "markdown",
   "id": "37fd24a8-c299-4caa-b010-f1c8a0edf80b",
   "metadata": {
    "jp-MarkdownHeadingCollapsed": true
   },
   "source": [
    "## When you are finished\n",
    "\n",
    "### Be sure to include the following in your report: \n",
    "<b>Methods section</b>: <br>\n",
    "A description of each of the analyses that you performed. Be sure to:\n",
    "- Indicate the tool(s) you used to filter and assess your data \n",
    "- Describe the approach that you used to calculate R<sub>Y</sub>.\n",
    "- <i>Optionally, if you implemented the approach from Anastasiadou et al 2024 [3], describe how you carried this out as well</i>\n",
    "\n",
    "<b>Results section</b>: <br>\n",
    "Be sure to include the following in your results section:\n",
    "- A table showing the number of reads that mapped to each chromosome (X and Y at a minimum, but include counts for chromosomes 1-22 if you calcualted those). \n",
    "- The sex chromosome ratio that you calculated (R<sub>Y</sub>) and the threshold that you used to determine chromosomal sex based on this ratio. \n",
    "- <i>Optionally, if you implemented the approach from Anastasiadou et al 2024 [3], include a table that shows the output of that analysis (i.e. one that includes N<sub>a</sub>, R<sub>x</sub> and R<sub>y</sub> along with the chromosomal sex estimation).\n",
    "\n",
    "<b>Conclusion section</b>: <br>\n",
    "Be sure to address the following, based on the results of your analyses: \n",
    "- Based on the sex chromosome ratio (and optionally on the result from Anastasiadou et al 2024), what do you think the chromosomal sex of your individual is?\n",
    "- Are you confident in this chromosomal sex estimation, why or why not? (For this question, focus solely on whether you think you can accurately estimate chromosomal sex for your mystery genome (and what factors might impact your ability to do so), not about the complexities surrounding determining sex and gender more broadly).\n",
    "\n",
    "\n",
    "### Additional Questions to answer at the end of your report: \n",
    "1) What are some reasons why you do not expect the ratio you calculated to exactly equal either 0 or 0.5? Remember - the reasons are different for each value, so be sure to provide separate explainations for both.  \n",
    "\n"
   ]
  },
  {
   "cell_type": "markdown",
   "id": "d0bb7e33-144a-48c8-8a8a-ad702b8f6d67",
   "metadata": {},
   "source": [
    "## References\n",
    "\n",
    "1) Skoglund, Pontus, et al. \"Accurate sex identification of ancient human remains using DNA shotgun sequencing.\" Journal of archaeological Science 40.12 (2013): 4477-4482.\n",
    "2) Danecek, Petr, et al. \"Twelve years of SAMtools and BCFtools.\" Gigascience 10.2 (2021): giab008. https://doi.org/10.1093/gigascience/giab008\n",
    "3) Anastasiadou, Kyriaki, et al. \"Detection of chromosomal aneuploidy in ancient genomes.\" Communications Biology 7.1 (2024): 14."
   ]
  }
 ],
 "metadata": {
  "kernelspec": {
   "display_name": "Python 3 (ipykernel)",
   "language": "python",
   "name": "python3"
  },
  "language_info": {
   "codemirror_mode": {
    "name": "ipython",
    "version": 3
   },
   "file_extension": ".py",
   "mimetype": "text/x-python",
   "name": "python",
   "nbconvert_exporter": "python",
   "pygments_lexer": "ipython3",
   "version": "3.11.11"
  }
 },
 "nbformat": 4,
 "nbformat_minor": 5
}
