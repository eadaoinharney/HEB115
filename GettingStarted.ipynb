{
 "cells": [
  {
   "cell_type": "markdown",
   "id": "154aba5b-f87f-4ba1-94e4-024afabb8666",
   "metadata": {},
   "source": [
    "# Getting Started\n",
    "\n",
    "This is a Jupyter Notebook file. You can run code directly in a Jupyter Notebook by typing commands (typically in python) and also use the file as a place to document and share information"
   ]
  },
  {
   "cell_type": "markdown",
   "id": "5e35a9ee-dbeb-4667-ac00-e795a005e2e0",
   "metadata": {},
   "source": [
    "### Getting Started\n",
    "\n",
    "Since you are viewing this file, this means that you (likely have) already done the following. If you haven't done these yet, please do so now:\n",
    "#### Start an interactive session\n",
    "\n",
    "- Sign in to https://ood.huit.harvard.edu/ \n",
    "- Navigate to `Interactive Apps → Jupyter Lab`\n",
    "- Launch a Jupyter Lab session with the following parameters:\n",
    "    - Number of hours: 2\n",
    "    - Number of CPUs: 1\n",
    "- When the session is ready, click “Connect to Jupyter”\n",
    "  \n",
    "#### Make a copy of the Jupyter Notebook that contains these instructions. \n",
    "\n",
    "You'll be copying this file from the shared course folder, so that you can edit it as you see fit:\n",
    "\n",
    "Today's instructions are saved in the following place:\n",
    "`~/153784/practical_instructions/GettingStarted.ipynb`\n",
    "\n",
    "To make a copy of these instructions run the following from within your terminal:"
   ]
  },
  {
   "cell_type": "raw",
   "id": "4bcd2dca-8b24-4b80-8aa9-bf9e6106afaf",
   "metadata": {},
   "source": [
    "cp ~/153784/practical_instructions/GettingStarted.ipynb ./"
   ]
  },
  {
   "cell_type": "markdown",
   "id": "48dfeae4-3e5d-4889-8b85-5121e0c6ffc6",
   "metadata": {},
   "source": [
    "Now you should be able to open your own version of this Jupyter Notebook that you can edit by double clicking on the file called `GettingStarted.ipynb` on the file list to the left"
   ]
  },
  {
   "cell_type": "markdown",
   "id": "889b2636-485e-4507-bbd8-fe1ea35e03e2",
   "metadata": {},
   "source": [
    "### Locate your mystery genome's bam file\n",
    "\n",
    "Now it's time to find the bam file associated with your mystery genome. It should be saved in the shared course folder, in a sub-directory called `data/mystery_genomes`\n",
    "\n",
    "Take a look at the contents of this directory by running the following command:"
   ]
  },
  {
   "cell_type": "raw",
   "id": "807c8f35-69e9-40ae-8be0-2cff89a4245b",
   "metadata": {},
   "source": [
    "ls ~/153784/data/mystery_genomes/"
   ]
  },
  {
   "cell_type": "markdown",
   "id": "b516c19c-ecaa-402f-8c47-4767087fa85a",
   "metadata": {},
   "source": [
    "### View your mystery genome's bamfile header\n",
    "\n",
    "Now it's time to use the tool samtools to view your mystery genome's bam file header. \n",
    "\n",
    "Modify the placeholder text in the following code to view the header associated with your mystery genome "
   ]
  },
  {
   "cell_type": "raw",
   "id": "27d790c3-cb65-4ccd-b2bf-df285d3ad38f",
   "metadata": {},
   "source": [
    "samtools view -H ~/153784/data/mystery_genomes/{MYSTERY GENOME ALIAS}.bam"
   ]
  },
  {
   "cell_type": "markdown",
   "id": "8e4cbe03-6f0e-4064-aa05-d64d0df04e0c",
   "metadata": {},
   "source": [
    "<i> Remember, placeholder text is typically placed between brackets (be sure to replace the brackets as well) </i>"
   ]
  },
  {
   "cell_type": "markdown",
   "id": "d38806dc-0ac5-4149-a99c-3cb672155fe3",
   "metadata": {},
   "source": [
    "### View the first 25 lines of your mystery genome's bamfile "
   ]
  },
  {
   "cell_type": "markdown",
   "id": "0114f12d-c51a-44de-8bd0-4b952873da4c",
   "metadata": {},
   "source": [
    "In the above command, we used the parameter `-H` to specify that we only want to view the bam header. If we didn't use this flag the command you ran would have returned the full contents of the bam file with no header. \n",
    "\n",
    "The `-h` flag tells samtools to return the full bam faile with a header \n",
    "\n",
    "<b>Note</b> - Don't try running the above command without the `-H` flag, since your bam file is so big that this will likely crash your interactive session\n",
    "\n",
    "If you want to see just a part of your bam file, then we can combine `samtools view` with the `head` command by running the following:"
   ]
  },
  {
   "cell_type": "raw",
   "id": "84bca2f7-9ceb-4028-ac00-9370539a4eb8",
   "metadata": {},
   "source": [
    "samtools view ~/153784/data/mystery_genomes/{MYSTERY GENOME ALIAS}.bam | head -25"
   ]
  },
  {
   "cell_type": "markdown",
   "id": "0d85a118-6edd-4539-97b1-b324614112a9",
   "metadata": {},
   "source": [
    "Notice how this time you don't see the header (since you didn't ask for it with either `-H` or `-h`). \n",
    "\n",
    "The `-25` flag tells the head command to show you the first 25 lines in the file. If you hadn't used this flag, the default is to return the first 5 lines"
   ]
  },
  {
   "cell_type": "markdown",
   "id": "7bfd9457-efa9-464d-9ffc-eaf73c14c7c5",
   "metadata": {},
   "source": [
    "## See what else a Jupyter Notebook can do"
   ]
  },
  {
   "cell_type": "markdown",
   "id": "a5b05d42-b709-407d-b335-2dc3d6e8cd58",
   "metadata": {},
   "source": [
    "For most of this course, I'll just be using Jupyter Notebooks to share instructions with you that you will run via a Terminal window, but Jupyter Notebooks are much more powerful. \n",
    "\n",
    "There are three types of Jupyter notebook cells. Try executing each of the following cells by typing typing `Command+Enter` while you have highlighted them with your cursor to see how they work:"
   ]
  },
  {
   "cell_type": "markdown",
   "id": "02e05146-65f6-4e8d-9162-b426e8611199",
   "metadata": {},
   "source": [
    "This is a markdown cell, which can be used to record notes"
   ]
  },
  {
   "cell_type": "raw",
   "id": "9bcb458c-cdd8-42fe-928c-7ae0a60ef73b",
   "metadata": {},
   "source": [
    "This is a raw cell, which contains unformatted text. "
   ]
  },
  {
   "cell_type": "code",
   "execution_count": null,
   "id": "2fa8804b-faf9-4563-8afe-e22261178ffc",
   "metadata": {},
   "outputs": [],
   "source": [
    "print(\"This is a code cell, which you can run code from, like this print statement\")"
   ]
  },
  {
   "cell_type": "markdown",
   "id": "b5549361-7389-41e0-8017-b511168fd888",
   "metadata": {},
   "source": [
    "### A few examples of running code in a Jupyter Notebook"
   ]
  },
  {
   "cell_type": "markdown",
   "id": "4d57fcd2-57d0-4eb8-a72f-7c6f184e154a",
   "metadata": {},
   "source": [
    "#### Python code\n",
    "\n",
    "This type of Jupyter Notebook is primarily set up to run code in python. \n",
    "\n",
    "Here's an example of some simple python code that returns a list of the numbers 1-10.  \n",
    "\n",
    "Try executing the code:"
   ]
  },
  {
   "cell_type": "code",
   "execution_count": null,
   "id": "da9548bd-cdc8-4fc0-8a26-7236e0644b60",
   "metadata": {},
   "outputs": [],
   "source": [
    "for x in range(1, 11):\n",
    "  print(x)"
   ]
  },
  {
   "cell_type": "markdown",
   "id": "f23e6b2b-294d-40bd-8c5c-12c1bb17ce2c",
   "metadata": {},
   "source": [
    "#### Bash code\n",
    "\n",
    "You can actually also run bash code from within a Jupyter Notebook if you start the command with an exclaimation point (`!`). \n",
    "\n",
    "Try printing the contents of the directory that this file is in by executing the following code:"
   ]
  },
  {
   "cell_type": "code",
   "execution_count": null,
   "id": "b31f4835-149e-4338-b9ef-b10897aa5d62",
   "metadata": {},
   "outputs": [],
   "source": [
    "! ls"
   ]
  },
  {
   "cell_type": "markdown",
   "id": "28cf4a2e-dddd-47be-97fd-bff18e5fac4a",
   "metadata": {},
   "source": [
    "Or if we want to replicate the python code from the previous section in bash, we can run the following bash code:"
   ]
  },
  {
   "cell_type": "code",
   "execution_count": null,
   "id": "ab9e1745-f093-4f88-aa08-ff8b9c4f361c",
   "metadata": {},
   "outputs": [],
   "source": [
    "! for num in {1..10}; do echo \"${num}\"; done "
   ]
  },
  {
   "cell_type": "markdown",
   "id": "31b28a88-7657-4b3e-80f9-f87962093030",
   "metadata": {},
   "source": [
    "#### Loading and manipulating a data table with pandas \n",
    "\n",
    "Jupyter Notebooks a great places to view and manipulate data tables. The following code will load in data from an example csv file from the shared class directory using the tool pandas and will display it on the screen"
   ]
  },
  {
   "cell_type": "code",
   "execution_count": null,
   "id": "60abc81c-d145-49d5-b2ff-951c5f59e942",
   "metadata": {},
   "outputs": [],
   "source": [
    "import pandas as pd\n",
    "\n",
    "data = pd.read_csv('~/153784/data/reference_data/getting_started_table.csv')\n",
    "\n",
    "data"
   ]
  },
  {
   "cell_type": "markdown",
   "id": "046d3281-8520-4287-a1d9-007592500823",
   "metadata": {},
   "source": [
    "You can sort the table based on the values in a particular column, using a command like:"
   ]
  },
  {
   "cell_type": "code",
   "execution_count": null,
   "id": "bf9830a2-f984-4dde-a20d-d9024d622e28",
   "metadata": {},
   "outputs": [],
   "source": [
    "data.sort_values(by=\"Weight (g)\")"
   ]
  },
  {
   "cell_type": "markdown",
   "id": "e8f41f66-8fc5-487b-ba01-1f8f82f884a0",
   "metadata": {},
   "source": [
    "Or you can subset the data, using a command like:"
   ]
  },
  {
   "cell_type": "code",
   "execution_count": null,
   "id": "a60e570d-7b1d-423e-bd10-4f8814ffc8ea",
   "metadata": {},
   "outputs": [],
   "source": [
    "data[data[\"Season\"]==\"Fall\"]"
   ]
  },
  {
   "cell_type": "markdown",
   "id": "76bbbeb1-2c2a-4388-a13e-cba445bbd21f",
   "metadata": {},
   "source": [
    "Learn more about everything you can use pandas for here: \n",
    "https://pandas.pydata.org/docs/user_guide/index.html#user-guide "
   ]
  },
  {
   "cell_type": "markdown",
   "id": "088246df-068b-46d2-b8ea-b31b534cdbb8",
   "metadata": {},
   "source": [
    "#### Making a simple plot with matplotlib\n",
    "\n",
    "In this class, you will be asked to plot the results of some of your analyses using a tool of your choice. \n",
    "\n",
    "Using the data from the previous section, let's make a simple graph with the tool matplotlib (https://matplotlib.org/stable/users/index.html) "
   ]
  },
  {
   "cell_type": "code",
   "execution_count": null,
   "id": "669042cc-d6c7-4a6f-8323-e4d9cd4cbfd0",
   "metadata": {},
   "outputs": [],
   "source": [
    "import matplotlib.pyplot as plt\n",
    "\n",
    "data.groupby('Color').size().plot(kind=\"pie\")"
   ]
  },
  {
   "cell_type": "markdown",
   "id": "27c912e9-c438-4d75-b16c-375205bc223b",
   "metadata": {},
   "source": [
    "Or you can make a scatterplot that compares the Weight and Price of each fruit"
   ]
  },
  {
   "cell_type": "code",
   "execution_count": null,
   "id": "fe6076e8-952f-429d-8aaa-b072a17882da",
   "metadata": {},
   "outputs": [],
   "source": [
    "plt.scatter(data[\"Weight (g)\"], data[\"Price per kg\"])"
   ]
  },
  {
   "cell_type": "markdown",
   "id": "0c60c68e-2b92-472a-965e-3b6aa76436ba",
   "metadata": {},
   "source": [
    "And make sure to add appropriate labels to your figure, and customize the color and style of your markers"
   ]
  },
  {
   "cell_type": "code",
   "execution_count": null,
   "id": "dafd7053-ef5d-4e4e-8a63-bb52f54180c1",
   "metadata": {},
   "outputs": [],
   "source": [
    "plt.scatter(data[\"Weight (g)\"], data[\"Price per kg\"], color=\"red\", marker=\"*\")\n",
    "plt.xlabel(\"Weight (g)\")\n",
    "plt.ylabel(\"Price per kg\")\n",
    "plt.title(\"Fruit Prices\")"
   ]
  },
  {
   "cell_type": "code",
   "execution_count": null,
   "id": "de1bf310-b1cd-4927-b543-33fe0cfab615",
   "metadata": {},
   "outputs": [],
   "source": []
  }
 ],
 "metadata": {
  "kernelspec": {
   "display_name": "Python 3 (ipykernel)",
   "language": "python",
   "name": "python3"
  },
  "language_info": {
   "codemirror_mode": {
    "name": "ipython",
    "version": 3
   },
   "file_extension": ".py",
   "mimetype": "text/x-python",
   "name": "python",
   "nbconvert_exporter": "python",
   "pygments_lexer": "ipython3",
   "version": "3.11.11"
  }
 },
 "nbformat": 4,
 "nbformat_minor": 5
}
