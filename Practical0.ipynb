{
 "cells": [
  {
   "cell_type": "markdown",
   "id": "154aba5b-f87f-4ba1-94e4-024afabb8666",
   "metadata": {},
   "source": [
    "# Practical 0\n",
    "\n",
    "## Preparing your working dataset\n",
    "\n",
    "The purpose of today's practical is to create a (compressed) eigenstrat format dataset that contains genotype information for your mystery genome AND an additional 7,857 present-day individuals at 584,131 SNP positions that are included on the Human Origins genotyping array.\n",
    "\n",
    "In order to do this, first we will create psuedo-haploid genotype calls for your mystery genome at the SNPs of interest and save the results in eigenstrat format. Then we will merge this newly created eigenstrat dataset with data from the 7,857 present-day individuals whose genomes are included in the Allen Ancient DNA Resource (https://dataverse.harvard.edu/dataset.xhtml?persistentId=doi:10.7910/DVN/FFIDCW). "
   ]
  },
  {
   "cell_type": "markdown",
   "id": "5e35a9ee-dbeb-4667-ac00-e795a005e2e0",
   "metadata": {},
   "source": [
    "### Getting Started\n",
    "\n",
    "<b>If you haven't already done so, start an interactive session</b>\n",
    "\n",
    "- Sign in to https://ood.huit.harvard.edu/ \n",
    "- Navigate to `Interactive Apps → Jupyter Lab - HEB 115`\n",
    "- Launch a Jupyter Lab session with the following parameters:\n",
    "    - Number of hours: 2\n",
    "    - Number of CPUs: 1\n",
    "- When the session is ready, click “Connect to Jupyter”\n",
    "\n",
    "<b>From within your home directory, create a working directory (called \"practical_0\" from which you will run commands and store any files that you generate</b>"
   ]
  },
  {
   "cell_type": "markdown",
   "id": "2e2036a6-cf5e-4fef-a181-b95d45c18948",
   "metadata": {},
   "source": [
    "```bash\n",
    "mkdir practical_0\n",
    "cd practical_0\n",
    "```"
   ]
  },
  {
   "cell_type": "markdown",
   "id": "7d759cfe-7a73-4a73-83a4-1767d038e478",
   "metadata": {},
   "source": [
    "<b>Copy these practical instructions to your working directory and open them as a Jupyter Notebook</b>"
   ]
  },
  {
   "cell_type": "markdown",
   "id": "86e9b22c-d154-4240-b0e6-6ab5e6ed253b",
   "metadata": {},
   "source": [
    "```bash\n",
    "cp ~/153784/practical_instructions/Practical0.ipynb ./\n",
    "```"
   ]
  },
  {
   "cell_type": "markdown",
   "id": "33c4ddf7-25a6-43b0-818b-5ac3694f350d",
   "metadata": {},
   "source": [
    "Then navigate to the practical_0 directory on the sidebar and click on Practical0.ipynb to open it as a Jupyter Notebook"
   ]
  },
  {
   "cell_type": "markdown",
   "id": "af65d1dd-1ec8-40f5-9f15-7ba9d574bef2",
   "metadata": {},
   "source": [
    "### Part 1) Convert your mystery genome to eigenstrat format\n",
    "\n",
    "<b>Create a position list file</b>\n",
    "\n",
    "In order to convert your data to eigenstrat format, we first need to create a position list file that contains information about all of the SNPs that we want to include in our eigenstrat dataset. The file `~/153784/data/AADR_dataset/v62.0_HO_HEB115-subset.snp` contains information about these SNPs, but it isn't in the right format for `samtools mpileup`, one of the tools that we will be using to create genotype calls.\n",
    "\n",
    "We can convert it into the format that we need using the following `awk` command:\n"
   ]
  },
  {
   "cell_type": "markdown",
   "id": "e1120d35-149d-47a2-b0e9-3112fd90ca42",
   "metadata": {},
   "source": [
    "```bash\n",
    "awk '{print $2 \"\\t\" $4}' ~/153784/data/AADR_dataset/v62.0_HO_HEB115-subset.snp > HO_position_list.txt\n",
    "```"
   ]
  },
  {
   "cell_type": "markdown",
   "id": "a694c286-4a98-4383-814c-49e6c65e20ac",
   "metadata": {},
   "source": [
    "If you'd like to know what that `awk` command did, use the following command to take a look at the first few rows of the original SNP file:"
   ]
  },
  {
   "cell_type": "markdown",
   "id": "d37c36ed-0068-4aee-9f48-1377cb7b78de",
   "metadata": {},
   "source": [
    "```bash\n",
    "head ~/153784/data/AADR_dataset/v62.0_HO_HEB115-subset.snp\n",
    "```"
   ]
  },
  {
   "cell_type": "markdown",
   "id": "9cd79fc4-8191-4543-b8c1-ebf5230249b4",
   "metadata": {},
   "source": [
    "And compare that to the new positions list file that you just made:"
   ]
  },
  {
   "cell_type": "markdown",
   "id": "55bcad3f-8d88-4c56-8ff3-c8d846a76900",
   "metadata": {},
   "source": [
    "```bash\n",
    "head HO_position_list.txt\n",
    "```"
   ]
  },
  {
   "cell_type": "markdown",
   "id": "c9726004-32fe-4f72-a2e5-5229a362d74b",
   "metadata": {},
   "source": [
    "<b>Submit a job to create your eigenstrat dataset</b>\n",
    "\n",
    "Now we can use a single, multi-step command to create an eigenstrat format dataset from your mystery genome's bam file. \n",
    "\n",
    "In the first part of the command, we will use the `mpileup` function of `samtools` to convert your bam file into pileup format. Pileup format is a text-based format for summarizing the base calls of aligned reads to a reference sequence. We'll learn more about pileup format in future practicals. You can learn more about `samtools mpileup` here: https://www.htslib.org/doc/samtools-mpileup.html \n",
    "\n",
    "Then we will use the tool `pileupCaller` to convert that pileup format dataset into eigenstrat format by randomly selecting a single read to represent the (homozygous) genotype call at each position in your position list. Learn more about pileupCaller here: https://github.com/stschiff/sequenceTools\n",
    "\n",
    "Replace the placeholder text in the following code and enter the command into a terminal window to run it (see if you can spot the breakpoint between the two steps in the command):"
   ]
  },
  {
   "cell_type": "markdown",
   "id": "f39d1199-aabe-4a10-8723-29fc2a2567dc",
   "metadata": {},
   "source": [
    "```bash\n",
    "samtools mpileup -R -B -q30 -Q30 \\\n",
    "-l ../HO_position_list.txt \\\n",
    "-f ~/153784/data/reference_genomes/human_g1k_v37.fasta \\\n",
    "~/153784/data/mystery_genomes/{YOUR MYSTERY GENOME ALIAS}.bam | \\\n",
    "~/153784/tools/pileupCaller \\\n",
    "--randomHaploid \\\n",
    "--sampleNames {YOUR MYSTERY GENOME ALIAS} \\\n",
    "--samplePopName {YOUR MYSTERY GENOME ALIAS} \\\n",
    "-f ~/153784/data/AADR_dataset/v62.0_HO_HEB115-subset.snp \\\n",
    "-e mystery_genome_eigenstrat\n",
    "```"
   ]
  },
  {
   "cell_type": "markdown",
   "id": "769f67d7-afc2-4a68-9991-f674852f63a5",
   "metadata": {},
   "source": [
    "<b> How to know that your job is running </b> \n",
    "\n",
    "When you submit your command, `samtools mpileup` will immediately return the following output:\n",
    "\n",
    "`[mpileup] 1 samples in 1 input files`\n",
    "\n",
    "Then, while the rest of your job is running, the prompt (the text at the left of each line in the terminal window) will disappear and the black cursor box will appear at the far left of the line. Once the command finishes, the prompt will reappear, signaling that the terminal is ready for the next input. "
   ]
  },
  {
   "cell_type": "markdown",
   "id": "65024ff5-6327-4955-bd97-9c36a31a032d",
   "metadata": {},
   "source": [
    "<b>When your job is done</b>\n",
    "\n",
    "Once your job is finished, pileupCaller will print out some useful summary statistics about your mystery genome. Make a note of these statistics beause they <i>might</i> come in handy later.\n",
    "\n",
    "You should also see that you've created three new files in your working directory:\n",
    "\n",
    "- `mystery_genome_eigenstrat.geno`\n",
    "- `mystery_genome_eigenstrat.snp`\n",
    "- `mystery_genome_eigenstrat.ind`\n",
    "\n",
    "These are the three files that make up the eigenstrat format. You can take a look at them, but remember that there will be nearly 600,000 rows in the geno and snp files so consider using the `head` or `more` commands instead of `cat`"
   ]
  },
  {
   "cell_type": "markdown",
   "id": "35794c38-8614-409e-a7f2-15d1de2a13bb",
   "metadata": {},
   "source": [
    "### Part 2) Merge your mystery genome with the Human Origins Dataset"
   ]
  },
  {
   "cell_type": "markdown",
   "id": "425ee274-e83c-4d31-adc0-4e4f16beb42d",
   "metadata": {},
   "source": [
    "Now that your mystery genome is in eigenstrat format we can use the tool `mergeit` from the `EIGENSOFT` package to merge it with the Human Origins dataset. Learn more about `mergeit` here: https://github.com/DReichLab/EIG/tree/master/CONVERTF \n",
    "\n",
    "`mergeit` and the other tools in the eigensoft packages require a parameter file to run (often called a 'par file' for short). The par file is where you specify any of the information that is required to run `mergeit` along with any optional parameters you might what to use. \n",
    "\n",
    "<b>Create a `mergeit` par file</b>\n",
    "\n",
    "Using the text editor of your choosing (such as the one called \"Text File\" that you can open from the launcher window in Jupyter Lab) create a file called `mergeit.par` that contains the following information:"
   ]
  },
  {
   "cell_type": "markdown",
   "id": "1a9fe8a2-f381-40ac-8144-50d0e4bc2ced",
   "metadata": {},
   "source": [
    "```bash\n",
    "geno1: /shared/home/{YOUR USER ID}/153784/data/AADR_dataset/v62.0_HO_HEB115-subset.geno\n",
    "snp1:  /shared/home/{YOUR USER ID}/153784/data/AADR_dataset/v62.0_HO_HEB115-subset.snp\n",
    "ind1:  /shared/home/{YOUR USER ID}/153784/data/AADR_dataset/v62.0_HO_HEB115-subset.ind\n",
    "geno2: mystery_genome_eigenstrat.geno\n",
    "snp2:  mystery_genome_eigenstrat.snp\n",
    "ind2:  mystery_genome_eigenstrat.ind\n",
    "genooutfilename: HO_HEB115_working_dataset.geno\n",
    "snpoutfilename: HO_HEB115_working_dataset.snp\n",
    "indoutfilename: HO_HEB115_working_dataset.ind\n",
    "```"
   ]
  },
  {
   "cell_type": "markdown",
   "id": "635bf70b-6252-4806-904a-13f9cd52771d",
   "metadata": {},
   "source": [
    "<i> Note - mergeit cannot interpret the ~ symbol that typically directs programs to your home directory, so you will need to provide the full path to the AADR dataset by replacing the placeholder text above with your user ID. </i>\n",
    "\n",
    "To find your user ID, enter the following command in terminal `whoami`"
   ]
  },
  {
   "cell_type": "markdown",
   "id": "2e772b31-2283-434c-ba3a-e25b6f29b944",
   "metadata": {},
   "source": [
    "<b>Submit your mergeit job</b>\n",
    "\n",
    "If we wanted to run mergeit within our interactive session, we would just need to run the following command:\n",
    "\n",
    "`mergeit -p mergeit.par > mergeit.out` \n",
    "\n",
    "But since mergeit can take a while to run, we will instead submit it as a stand-alone job to the compute server using the `sbatch` command using the `--wrap` parameter, which lets us directly input the command that we want to run. \n",
    "\n",
    "So to run your job, enter the following command into your terminal window:"
   ]
  },
  {
   "cell_type": "markdown",
   "id": "2778f22b-df66-46bd-945c-7ee00f3f6888",
   "metadata": {},
   "source": [
    "```bash\n",
    "sbatch --wrap=\"mergeit -p mergeit.par > mergeit.out\"\n",
    "```"
   ]
  },
  {
   "cell_type": "markdown",
   "id": "4f6a7c3b-236c-4e6f-b037-6d0cb2e58b1e",
   "metadata": {},
   "source": [
    "<i>Remember, any time you want to submit a stand alone job to the compute server, you can use the sbatch function. Just replace the code between the parentheses with whatever code you want to run!</i>"
   ]
  },
  {
   "cell_type": "markdown",
   "id": "9d26c47b-035c-4bd4-9075-b732d183c2f6",
   "metadata": {},
   "source": [
    "<b> Monitor your job </b>\n",
    "\n",
    "You can check to see if your job is still running in a few ways:\n",
    "\n",
    "- In your terminal window, run the command `squeue -u {YOUR USER ID}`. This will return a list of the jobs that you are currently running\n",
    "- Navigate to the active jobs section of the Open OnDemand browser (https://ood.huit.harvard.edu/pun/sys/dashboard/activejobs) and confirm that it is listed as an active job.\n",
    "\n",
    "<i>Note - the Juptyer Lab interactive session you created at the start of class is also considered an active job, so if your job is still running, you should see a total of two active jobs</i>"
   ]
  },
  {
   "cell_type": "markdown",
   "id": "edc0f89a-0f8f-4c9b-b085-db6d7cb008ec",
   "metadata": {},
   "source": [
    "While your job is running, mergeit will write any logging information to the file that you specificed called `mergeit.out`. You can use the `more` or `cat` commands to see any output that has been added to that file. \n",
    "\n",
    "Additionally, when you submit a job using sbatch a logging file called `slurm-{JOB ID}.out` will also be created, where the job ID is the ID that was assigned to your job by the slurm system that carries out each job. If something goes wrong with your job, the error message might be logged in this file. "
   ]
  },
  {
   "cell_type": "markdown",
   "id": "d094b580-078e-4097-88d5-3ace9d400083",
   "metadata": {},
   "source": [
    "<b>Take a look at your merged eigenstrat format dataset!</b>\n",
    "\n",
    "Once your job is finished, you should see that you've created three new files in your working directory:\n",
    "\n",
    "- `HO_HEB115_working_dataset.geno`\n",
    "- `HO_HEB115_working_dataset.snp`\n",
    "- `HO_HEB115_working_dataset.ind`\n",
    "\n",
    "Like before, these are the three files that make up the eigenstrat format. You can take a look at them, but remember that there will be nearly 600,000 rows in the .geno and .snp files so consider using the `head` or `more` commands instead of `cat`\n",
    "\n",
    "Your mystery genome should be listed in the very last position in the .ind file, so you can also use the `tail` command to view the last few lines of this file\n",
    "\n",
    "If you look at the geno file, you'll notice that it is no longer in a human readable format. That's because the default output of mergeit is to generate data in `PACKEDANCESTRYMAP` format, which is a compressed format. "
   ]
  },
  {
   "cell_type": "markdown",
   "id": "37fd24a8-c299-4caa-b010-f1c8a0edf80b",
   "metadata": {},
   "source": [
    "### When you are finished\n",
    "\n",
    "Congrats! You just created a working dataset that we will use in future practicals to compare your mystery genome to other present-day individuals with known ancestries. \n",
    "\n",
    "You don't have to write a practical report this week, but take some time to familiarize yourself with the code that you ran and what it did, since you will need to describe this process in your final project report. "
   ]
  }
 ],
 "metadata": {
  "kernelspec": {
   "display_name": "Python 3 (ipykernel)",
   "language": "python",
   "name": "python3"
  },
  "language_info": {
   "codemirror_mode": {
    "name": "ipython",
    "version": 3
   },
   "file_extension": ".py",
   "mimetype": "text/x-python",
   "name": "python",
   "nbconvert_exporter": "python",
   "pygments_lexer": "ipython3",
   "version": "3.11.11"
  }
 },
 "nbformat": 4,
 "nbformat_minor": 5
}
