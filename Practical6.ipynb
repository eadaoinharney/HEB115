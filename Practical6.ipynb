{
 "cells": [
  {
   "cell_type": "markdown",
   "id": "154aba5b-f87f-4ba1-94e4-024afabb8666",
   "metadata": {},
   "source": [
    "# Practical 6\n",
    "\n",
    "## Assessing genetic ancestry III - Outgroup f3-statistics\n",
    "\n",
    "This week, you’ll use the tool `qp3Pop` from the `AdmixTools` package [1] to calculate outgroup f<sub>3</sub>-statistics of the form <i>f<sub>3</sub></i>(Mbuti.HO; Mystery Genome, <i>Test</i>), where the population Mbuti.HO is serving as an outgroup and <i>Test</i> is a placeholder term that refers to all of the other populations in your working dataset [2,3] that you’ll be comparing your mystery genome to. Outgroup f<sub>3</sub>-statistics measure how closely two populations (in this case your mystery genome and <i>Test</i>) are to one another, as measured against a distant outgroup (in this case, Mbuti.HO). "
   ]
  },
  {
   "cell_type": "markdown",
   "id": "5e35a9ee-dbeb-4667-ac00-e795a005e2e0",
   "metadata": {},
   "source": [
    "### Getting Started\n",
    "\n",
    "<b>If you haven't already done so, start an interactive session</b>\n",
    "\n",
    "- Sign in to https://ood.huit.harvard.edu/ \n",
    "- Navigate to `Interactive Apps → Jupyter Lab`\n",
    "- Launch a Jupyter Lab session with the following parameters:\n",
    "    - Number of hours: 2\n",
    "    - Number of CPUs: 2\n",
    "- When the session is ready, click “Connect to Jupyter”\n",
    "\n",
    "<b>Create a working directory (called \"practical_6\" from which you will run commands and store any files that you generate</b>"
   ]
  },
  {
   "cell_type": "markdown",
   "id": "d314929c-8c3b-4ea7-a552-2ddb8c30cb63",
   "metadata": {},
   "source": [
    "```bash\n",
    "mkdir practical_6\n",
    "cd practical_6\n",
    "```"
   ]
  },
  {
   "cell_type": "markdown",
   "id": "7d759cfe-7a73-4a73-83a4-1767d038e478",
   "metadata": {},
   "source": [
    "<b>Copy these practical instructions to your working directory and open them as a Jupyter Notebook</b>"
   ]
  },
  {
   "cell_type": "markdown",
   "id": "a6099903-beee-4be9-9530-ce59d4a5be00",
   "metadata": {},
   "source": [
    "```bash\n",
    "cp ~/139860/practical_instructions/Practical6.ipynb ./\n",
    "```"
   ]
  },
  {
   "cell_type": "markdown",
   "id": "33c4ddf7-25a6-43b0-818b-5ac3694f350d",
   "metadata": {},
   "source": [
    "Then navigate to the practical_6 directory on the sidebar and click on Practical6.ipynb to open it as a Jupyter Notebook"
   ]
  },
  {
   "cell_type": "markdown",
   "id": "48c5d717-cc30-4d77-80b6-6b26322df769",
   "metadata": {},
   "source": [
    "### Part 1) Prepare a poplist file\n",
    "\n",
    "In order to run `qp3Pop`, you’ll need to create a “poplist” file that specifies what outgroup f3-statistics should be computed. The poplist contains three tab-separated columns, which contain (1) your population of interest (i.e. the population label of your mystery genome), (2) the “Test” populations you are comparing against, and (3) the outgroup population. \n",
    "\n",
    "In this exercise, you’ll compare your mystery genome to all of the Human Origins and 1000 Genomes populations that are included in your working dataset. It will be up to you to identify which populations to include in your analysis by pulling this information from the working dataset anno file: https://docs.google.com/spreadsheets/d/1NJEPY-JPSjj3ERmM1SXkz7vYVafIaJ0gjpRQ-XLxAmk/edit?usp=sharing\n",
    "\n",
    "\n",
    "\n",
    "Here’s an example of what the first few columns of your poplist file should look like:"
   ]
  },
  {
   "cell_type": "markdown",
   "id": "9374518d-7471-402f-b321-1e44d28fe175",
   "metadata": {},
   "source": [
    "```bash\n",
    "{YOUR MYSTERY GENOME}\tSouthAfrica_Tswana.HO\tMbuti.HO\n",
    "{YOUR MYSTERY GENOME}\tEthiopia_BetaIsrael.HO\tMbuti.HO\n",
    "{YOUR MYSTERY GENOME}\tEthiopia_Oromo.HO\tMbuti.HO\n",
    "```"
   ]
  },
  {
   "cell_type": "markdown",
   "id": "b97854f7-6d94-40bc-bce7-efa47a366a88",
   "metadata": {},
   "source": [
    "Using a method of your choosing, prepare your poplist and save it in a file named `poplist`. Be sure that your poplist doesn’t contain any duplicate lines and that you don’t use your outgroup population (Mbuti.HO) as a Test population (since it can't be both a Test and outgroup). \n",
    "\n",
    "<b>Tips for identifying populations in the anno file:<b>\n",
    "\n",
    "- <b>For the 1000 Genomes populations:</b>\n",
    "You can identify 1000 Genomes populations by looking for populations that are labeled as coming from the 1KGPhase3 publication in the `Publication` column.\n",
    "    - Note - There are two versions of each 1000 Genomes population, which are indicated with different suffixes. These two versions are described as follows by the AADR website:\n",
    "        - SG: Samples with whole genome shotgun sequence data, randomly drawing a single read to represent each position in the genome\n",
    "        - DG: Samples shotgun sequenced with high enough coverage to call diploid genotypes, allowing for heterozygous calls\n",
    "    - Just choose one version to include in your analysis. I used .DG, but your results will likely be similar either way\n",
    "- <b>For the Human Origins populations:</b>\n",
    "You can identify Human Origins populations by looking at the column called `DataSource`.\n",
    "    - Note - It is up to you whether you'd like to include non-human primate populations in your analysis. But you don't need to include them on the map that you create.\n",
    "\n",
    "\n",
    "### Part 2) Prepare a parameter file\n",
    "Since `qp3Pop` is part of the `AdmixTools` package, you’ll need to create a parameter (or par) file to run it. Create a file called `outgroup_f3.par`, which includes the following:"
   ]
  },
  {
   "cell_type": "markdown",
   "id": "9051e693-6768-4e13-a162-76632657d351",
   "metadata": {},
   "source": [
    "```bash\n",
    "genotypename: {POINTER TO YOUR WORKING DATASET GENO FILE}\n",
    "snpname:      {POINTER TO YOUR WORKING DATASET SNP FILE}\n",
    "indivname:    {POINTER TO YOUR WORKING DATASET IND FILE}\n",
    "popfilename: poplist\n",
    "inbreed: YES\n",
    "printsd: YES\n",
    "chrom: 1   \n",
    "```"
   ]
  },
  {
   "cell_type": "markdown",
   "id": "9fa15fab-74a3-45a8-a712-9e8d7e99b893",
   "metadata": {},
   "source": [
    "### Part 3) Run qp3Pop\n",
    "\n",
    "To run qp3Pop, you can use the following command (Note - This may take a few minutes to run, so it is up to you whether to submit it as a job using sbatch):"
   ]
  },
  {
   "cell_type": "markdown",
   "id": "cdb802ec-50b1-46e6-b488-e0c0d0ff7469",
   "metadata": {},
   "source": [
    "```bash\n",
    "qp3Pop -p outgroup_f3.par > outgroup_f3.out\n",
    "```"
   ]
  },
  {
   "cell_type": "markdown",
   "id": "58a55a2a-2d35-4fc2-9919-0f9f8720d8f7",
   "metadata": {},
   "source": [
    "### Part 4) Plot your results\n",
    "\n",
    "When qp3Pop is finished running, the results of your analysis will be available in a file called: `outgroup_f3.out`. \n",
    "\n",
    "The results of each outgroup f3 statistic will be displayed on a line that starts with the word “result:”, which will have 6 additional columns that specify: \n",
    "1. The name of your mystery genome\n",
    "2. The name of the test population\n",
    "3. The name of the outgroup population used (in this case Mbuti.HO)\n",
    "4. The value of the outgroup-f3 statistic\n",
    "5. The standard error associated with that statistic\n",
    "6. The z-score associated with the statistic\n",
    "7. The number of SNPs used in the calculation. \n",
    "\n",
    "There are two ways that people commonly plot the results of outgroup-f3 analyses:\n",
    "1. In a plot that shows all the test populations ordered from highest to lowest associated f-statistic, with error bars showing the associated standard error\n",
    "2. On a map showing the geographic location of each test population, where marker color indicates the associated f3-statistic.\n",
    "\n",
    "For this practical, you’ll plot your results on a map.\n",
    "\n",
    "The following Jupyter Notebook provides an example of how you can plot your results on a map. Make a copy of this notebook and use it as a template for plotting your results. (Alternatively you are welcome to write your own script to do this):\n",
    "`~/139860/practical_instructions/Practical6_map_plotting.ipynb`\n",
    "  \n",
    "To make your map, you’ll need to look up the geographic coordinates associated with each population included in your analysis. They can be found in the AADR “anno” file (https://docs.google.com/spreadsheets/d/1NJEPY-JPSjj3ERmM1SXkz7vYVafIaJ0gjpRQ-XLxAmk/edit?usp=sharing). \n",
    "\n",
    "*Note 1- Sometimes different individuals from the same population have different coordinates listed in the AADR anno file. If that’s the case, don’t worry, for the purpose of this assignment, you can just pick one set of coordinates to represent each population's location.*\n",
    "\n",
    "*Note 2 - Some populations don't have any coordinates associated with them. Based on the available location information, you are encouraged to choose an approximate location for them so that they can be included in your map. But it is also okay to exclude these populations from your plot.*\n",
    "\n",
    "### Part 5) Make a table\n",
    "\n",
    "Create a table that includes the top 25 results for populations that are most similar to your mystery genome, based on the computed f3-statistic. At a minimum, this table should include columns 2, 4, 5, 6 and 7 from the `outgroup_f3.out` results file. \n",
    "\n",
    "Note - Don’t forget that you made a file called `results_outgroup_f3.csv` during the part 4 which might make this easier. "
   ]
  },
  {
   "cell_type": "markdown",
   "id": "befdd70b-f93a-4740-b61c-70e6859c76c3",
   "metadata": {},
   "source": [
    "## When you are finished\n",
    "\n",
    "### Be sure to include the following in your report: \n",
    "<b>Methods section</b>: <br>\n",
    "A description of how you computed the outgroup f<sub>3</sub>-statistics included in this report.\n",
    "\n",
    "<i>Remember:</i>\n",
    "- <i>Be sure to describe the statistic that you computed and which populations you included in your list of <i>Test</i> populations, but you don't need to describe how you made your poplist.</i>\n",
    "- <i>You don't need to describe how you plotted your results.</i>\n",
    "\n",
    "<b>Results section</b>: <br>\n",
    "Be sure to include the following in your results section:\n",
    "- The map you made showing your outgroup f<sub>3</sub>-statistic results with an appropriate caption.\n",
    "- A table showing the results for the 25 populations that are most similar to your mystery genome according to your outgroup f<sub>3</sub>-statistic analysis. \n",
    "\n",
    "<b>Conclusion section</b>: <br>\n",
    "Be sure to address the following, based on the results of your analyses: \n",
    "- Which populations is your mystery genome most similar to? (Be sure to look at both the assigned f<sub>3</sub>-statistic and the associated standard error)\n",
    "- Are your mystery genome’s top matches all concentrated in a single geographic region? What does this tell you about your mystery genome's likely ancestry? \n",
    "\n",
    "### Additional Questions to answer at the end of your report: \n",
    "- Why was Mbuti.HO chosen as the outgroup population for this analysis?\n",
    "- When might Mbuti.HO not be an ideal outgroup population (think about the ancestry of the individual/population you might want to analyze)? What is an alternative outgroup that you could use in this circumstance?\n",
    "- Why did you use the inbreed: YES parameter?"
   ]
  },
  {
   "cell_type": "markdown",
   "id": "15f3c7b0-99b1-4dde-8fda-ab85b01e794f",
   "metadata": {},
   "source": [
    "### References\n",
    "1. Patterson, Nick, et al. \"Ancient admixture in human history.\" Genetics 192.3 (2012): 1065-1093.\n",
    "2. Mallick S, Reich D, 2023, \"The Allen Ancient DNA Resource (AADR): A curated compendium of ancient human genomes\", https://doi.org/10.7910/DVN/FFIDCW, Harvard Dataverse, V8\n",
    "3. Mallick S, Micco A, Mah M, Ringbauer H, Lazaridis I, Olalde I, Patterson N, Reich D (2024) The Allen Ancient DNA Resource (AADR) a curated compendium of ancient human genomes. Sci Data 11, 182.\n",
    "\n",
    "\n",
    "## Additional Resources\n",
    "\n",
    "Here is a link to the qp3Pop README file on GitHub, which you can refer to if you want more information about how the tool works:\n",
    "https://github.com/DReichLab/AdmixTools/blob/master/README.3PopTest\n",
    "\n",
    "Here is the user guide for geopandas which you can refer to if you want to adjust your figure:\n",
    "https://geopandas.org/en/stable/docs/user_guide.html \n"
   ]
  }
 ],
 "metadata": {
  "kernelspec": {
   "display_name": "Python 3 (ipykernel)",
   "language": "python",
   "name": "python3"
  },
  "language_info": {
   "codemirror_mode": {
    "name": "ipython",
    "version": 3
   },
   "file_extension": ".py",
   "mimetype": "text/x-python",
   "name": "python",
   "nbconvert_exporter": "python",
   "pygments_lexer": "ipython3",
   "version": "3.11.9"
  }
 },
 "nbformat": 4,
 "nbformat_minor": 5
}
