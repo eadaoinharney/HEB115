{
 "cells": [
  {
   "cell_type": "markdown",
   "id": "154aba5b-f87f-4ba1-94e4-024afabb8666",
   "metadata": {},
   "source": [
    "## Practical 4\n",
    "\n",
    "## Assessing genetic ancestry I - Principal Components Analysis\n",
    "\n",
    "In this practical, you will project your mystery genome onto a PCA plot composed of present-day populations from around the world using the tool `smartpca` [1]. \n",
    "\n",
    "Before your begin this week’s practical, take a moment to familiarize yourself with the `smartpca` documentation here: (https://github.com/DReichLab/EIG/tree/master/POPGEN) "
   ]
  },
  {
   "cell_type": "markdown",
   "id": "5e35a9ee-dbeb-4667-ac00-e795a005e2e0",
   "metadata": {},
   "source": [
    "### Getting Started\n",
    "\n",
    "<b>If you haven't already done so, start an interactive session</b>\n",
    "\n",
    "- Sign in to https://ood.huit.harvard.edu/ \n",
    "- Navigate to `Interactive Apps → Jupyter Lab - HEB 115`\n",
    "- Launch a Jupyter Lab session with the following parameters:\n",
    "    - Number of hours: 2\n",
    "    - Number of CPUs: 4\n",
    "- When the session is ready, click “Connect to Jupyter”\n",
    "\n",
    "<b>Create a working directory (called \"practical_4\" from which you will run commands and store any files that you generate</b>"
   ]
  },
  {
   "cell_type": "markdown",
   "id": "b6f5ec98-58a6-4f0c-813a-ce4e4850aec5",
   "metadata": {},
   "source": [
    "```bash\n",
    "mkdir practical_4\n",
    "cd practical_4\n",
    "```"
   ]
  },
  {
   "cell_type": "markdown",
   "id": "7d759cfe-7a73-4a73-83a4-1767d038e478",
   "metadata": {},
   "source": [
    "<b>Copy these practical instructions to your working directory and open them as a Jupyter Notebook</b>"
   ]
  },
  {
   "cell_type": "markdown",
   "id": "e691d31d-00bd-41d3-bcec-52ea9a3eed1d",
   "metadata": {},
   "source": [
    "```bash\n",
    "cp ~/153784/practical_instructions/Practical4.ipynb ./\n",
    "```"
   ]
  },
  {
   "cell_type": "markdown",
   "id": "33c4ddf7-25a6-43b0-818b-5ac3694f350d",
   "metadata": {},
   "source": [
    "Then navigate to the practical_4 directory on the sidebar and click on Practical4.ipynb to open it as a Jupyter Notebook"
   ]
  },
  {
   "cell_type": "markdown",
   "id": "edf5749d-3c1a-4263-a368-3dbc40e27cba",
   "metadata": {},
   "source": [
    "### Part 1) Prepare your analysis dataset\n",
    "\n",
    "Today you will be working with the merged dataset that you prepared during practical 0, which contains your mystery genome merged with data from 2,438 present-day individuals at 584,131 SNP positions that are included on the Human Origins genotyping array accessed via the Ancient Allen DNA Resource [2,3].\n",
    "\n",
    "This dataset should be saved in your `~/practical_0 directory` and each file should have the prefix `HO_HEB115_working_dataset`, followed by the suffixes `.geno`, `.ind` and `.snp`.\n",
    "\n",
    "To double check that each of the files exists, you can run the following commands:"
   ]
  },
  {
   "cell_type": "markdown",
   "id": "c8b523e1-7459-4a2b-ab40-f1301d75341d",
   "metadata": {},
   "source": [
    "```bash\n",
    "ls ~/practical_0/HO_HEB115_working_dataset.geno\n",
    "ls ~/practical_0/HO_HEB115_working_dataset.ind\n",
    "ls ~/practical_0/HO_HEB115_working_dataset.snp\n",
    "```"
   ]
  },
  {
   "cell_type": "markdown",
   "id": "1e0673ed-4cbc-48f1-a7d8-22258d9c656b",
   "metadata": {},
   "source": [
    "To make the global PCA plot, you will project your mystery genome onto a PCA plot composed of present-day individuals from a predetermined set of 169 different populations that have been gentoyped on the Human Origins array. You can find a list of these populations here:\n",
    "\n",
    "`~/153784/data/reference_data/poplist_world_HO.txt`\n",
    "\n",
    "By default, the tool smartpca will include every individual that is included in the input dataset in the PCA plot that it creates EXCEPT for those whose population label is listed as \"Ignore\". Since your working dataset contains data from more than just the individuals that you need to include in your PCA plot, your first step should be to create a new `.ind` file with updated population labels for all of the individuals that you don’t want to include in your analysis. \n",
    "\n",
    "Your first task is to change all of the population labels for all of the populations that you don't want to include in yoru PCA analysis to Ignore. \n",
    "\n",
    "You can write your own script to do this, or use a simple one that I wrote (`~/153784/tools/change_to_ignore.py`). To learn how it works, use the command: \n"
   ]
  },
  {
   "cell_type": "markdown",
   "id": "2b0289c0-8710-4006-8c48-40de263ee0e7",
   "metadata": {},
   "source": [
    "```bash\n",
    "python ~/153784/tools/change_to_ignore.py --help\n",
    "```"
   ]
  },
  {
   "cell_type": "markdown",
   "id": "a3c754ac-b3f1-42d1-95c5-a40b9aec5241",
   "metadata": {},
   "source": [
    "<b><u>Remember!</u> In addition to including the 220 present-day populations in your new ind file you also need to include your mystery genome. Make sure you don't change the population label for your mystery genome to Ignore during this process</b>\n",
    "\n",
    "When you are done, take a moment to examine your newly created .ind file to make sure that the labels for populations that you don’t want to include in your analysis have been changed to “Ignore” while the ones you do want to retain (like that of your mystery genome) remain intact.\n",
    "\n",
    "**Note** - This part of the practical doesn’t involve any actual data analysis, so you don’t need to describe this script in your report. Only provide a general description of what populations were included in your smartpca analysis and where that dataset comes from (i.e. Human Origins populations from the AADR).  \n"
   ]
  },
  {
   "cell_type": "markdown",
   "id": "c6516382-2b97-4b5e-9e83-14213a435170",
   "metadata": {},
   "source": [
    "### Part 2) Prepare your parameter file\n",
    "\n",
    "In order to run smartpca, you’ll need to create a parameter file that contains information about the analysis that you want to run. Make a parameter file called `global_pca.par` that includes the following information (make sure to replace any placeholder text):\n"
   ]
  },
  {
   "cell_type": "markdown",
   "id": "baf50f3c-fc23-4b3b-86e2-ac8095cde5d7",
   "metadata": {},
   "source": [
    "```bash \n",
    "genotypename: /shared/home/{YOUR USER ID}/practical_0/HO_HEB115_working_dataset.geno\n",
    "snpname: /shared/home/{YOUR USER ID}/practical_0/HO_HEB115_working_dataset.snp\n",
    "indivname: {POINTER TO THE NEW IND FILE YOU MADE IN PART 1}\n",
    "evecoutname: global_pca.evec\n",
    "evaloutname: global_pca.eval\n",
    "lsqproject:  YES \n",
    "poplistname: /shared/home/{YOUR USER ID}/153784/data/reference_data/poplist_world_HO.txt\n",
    "numoutevec: 2\n",
    "numoutlieriter: 0\n",
    "hashcheck: NO\n",
    "chrom: 1\n",
    "```"
   ]
  },
  {
   "cell_type": "markdown",
   "id": "cf3387fc-ab1c-400d-863d-d89b110de91a",
   "metadata": {},
   "source": [
    "### Part 3) Run smartpca "
   ]
  },
  {
   "cell_type": "markdown",
   "id": "a82d7cea-f085-441f-89a6-f6bac87ea4d7",
   "metadata": {},
   "source": [
    "Now you are ready to run `smartpca` using the following command:"
   ]
  },
  {
   "cell_type": "markdown",
   "id": "cf71fc0a-4c72-4652-b401-99ded3ef1ae4",
   "metadata": {},
   "source": [
    "```bash\n",
    "~/153784/EIG/bin/smartpca -p global_pca.par > global_pca.out\n",
    "```"
   ]
  },
  {
   "cell_type": "markdown",
   "id": "c2f00cd3-2d28-49aa-960b-1c1ea1e023cf",
   "metadata": {},
   "source": [
    "<i><b>Hint</b> - This analysis will take some time to run, so submit it as a job using the sbatch command like you have done previously.</i>"
   ]
  },
  {
   "cell_type": "markdown",
   "id": "385bee0b-ba3f-4300-8384-b144105f4a9c",
   "metadata": {},
   "source": [
    "When `smartPCA` is finished, it will produce several output files, including the `.evec` file, which contains the information that you need to create your PCA plot. Your `.evec` file will contain two columns, corresponding to the first two principal components (PC1 and PC2). (By default `smartPCA` typically generates the first ten principal components, but to same time/memory, you specified that only two principal components should be generated, using the `numoutevec` parameter in your par file.) \n",
    "\n",
    "\n",
    "<i><b>Hint</b>: The default formatting of an evec file is a little messy. You might find the following code helpful if you’d like to remove all the extra white space before you start plotting:</i>"
   ]
  },
  {
   "cell_type": "markdown",
   "id": "96cc5f0b-6e0e-43a0-936f-ae392a96032c",
   "metadata": {},
   "source": [
    "```bash\n",
    "tr -s \" \" < {EVEC FILE NAME} | sed 's/^ *//g' > {OUTPUT FILE NAME}\n",
    "```"
   ]
  },
  {
   "cell_type": "markdown",
   "id": "ad97e915-647f-493a-8813-861788e7c878",
   "metadata": {},
   "source": [
    "### Part 4) Plot your results\n",
    "\n",
    "Using the program of your choosing (e.g. Jupyter Notebook within the Jupyter Hub, or R, or even Excel or Google Sheets), create a scatterplot that shows the results of your PCA. \n",
    "\n",
    "<b>Requirements for your PCA plot:</b>\n",
    "- Make sure that your mystery genome’s position is prominently displayed, it should not be buried beneath the markers for the present-day individuals in the scatter plot. \n",
    "- Using text annotations, marker colors and/or marker shapes to label the present-day populations in your dataset according to geography.\n",
    "\n",
    "You can learn more about the Human Origins populations that you included in your analysis by looking at the information that was included in the AADR anno file (version 62.0), which you can view on google drive at this link: https://docs.google.com/spreadsheets/d/1U95pDtpNCFxYWNuutPJIAl1QM3frMnV8a0RRg7ah6DU/edit?usp=sharing "
   ]
  },
  {
   "cell_type": "markdown",
   "id": "befdd70b-f93a-4740-b61c-70e6859c76c3",
   "metadata": {},
   "source": [
    "## When you are finished\n",
    "\n",
    "### Be sure to include the following in your report: \n",
    "<b>Methods section</b>: <br>\n",
    "A description of how you ran your smartpca analysis, highlighting any non-default parameters that you specified in your analysis. <br>\n",
    "Remember, rather than describing the exact steps that you took to prepare your input datasets, focus your explaination on highlighting which populations were included in your analysis (i.e. how many populations and from what dataset did they come from). \n",
    "\n",
    "<b>Results section</b>: <br>\n",
    "Be sure to include the following in your results section:\n",
    "- Your PCA plot, with an appropriate caption.\n",
    "- Describe where your mystery genome cluster relative to the other Human Origins populations included in your PCA plot. Focus on continental-level ancestry groupings, rather than specific populations. \n",
    "\n",
    "<b>Conclusion section</b>: <br>\n",
    "Be sure to address the following, based on the results of your analyses: \n",
    "- What does your mystery genome's position in the PCA plot suggest about their ancestry?\n",
    "\n",
    "### Additional Questions to answer at the end of your report: \n",
    "1) Why might you want to project your mystery genome onto the PCA plot rather than including it in the analysis? \n",
    "2) How did you specify that your mystery genome should be projected in the PCA plot that you created? Be sure to highlight any parameters that you specified and what information you provided to those parameters. \n",
    "3) What does the numoutevec parameter do in the par file that you created? How would the evec file that smartpca output have differed if you did not include this parameter? "
   ]
  },
  {
   "cell_type": "markdown",
   "id": "15f3c7b0-99b1-4dde-8fda-ab85b01e794f",
   "metadata": {},
   "source": [
    "### References\n",
    "\n",
    "1. Patterson N, Price AL, and Reich D. \"Population structure and eigenanalysis.\" PLoS genetics 2.12 (2006): e190.\n",
    "2. Swapan Mallick and David Reich: The Allen Ancient DNA Resource (AADR): A curated compendium of ancient human genomes, https://doi.org/10.7910/DVN/FFIDCW”, Harvard Dataverse, V9 data release [September 16, 2024]\n",
    "3. Mallick S, Micco A, Mah M, Ringbauer H, Lazaridis I, Olalde I, Patterson N, Reich D (2024) The Allen Ancient DNA Resource (AADR) a curated compendium of ancient human genomes. Sci Data 11, 182.\n"
   ]
  },
  {
   "cell_type": "code",
   "execution_count": null,
   "id": "bd4a8c8c-f2f1-4b55-a7af-69dfff41dea7",
   "metadata": {},
   "outputs": [],
   "source": []
  }
 ],
 "metadata": {
  "kernelspec": {
   "display_name": "Python 3 (ipykernel)",
   "language": "python",
   "name": "python3"
  },
  "language_info": {
   "codemirror_mode": {
    "name": "ipython",
    "version": 3
   },
   "file_extension": ".py",
   "mimetype": "text/x-python",
   "name": "python",
   "nbconvert_exporter": "python",
   "pygments_lexer": "ipython3",
   "version": "3.11.11"
  }
 },
 "nbformat": 4,
 "nbformat_minor": 5
}
